{
 "cells": [
  {
   "cell_type": "code",
   "execution_count": 1,
   "metadata": {},
   "outputs": [],
   "source": [
    "import numpy as np\n",
    "import pandas as pd\n",
    "import matplotlib.pyplot as plt\n",
    "import seaborn as sns\n",
    "%matplotlib inline"
   ]
  },
  {
   "attachments": {},
   "cell_type": "markdown",
   "metadata": {},
   "source": [
    "## Import dataset\n"
   ]
  },
  {
   "cell_type": "code",
   "execution_count": 2,
   "metadata": {},
   "outputs": [
    {
     "data": {
      "text/html": [
       "<div>\n",
       "<style scoped>\n",
       "    .dataframe tbody tr th:only-of-type {\n",
       "        vertical-align: middle;\n",
       "    }\n",
       "\n",
       "    .dataframe tbody tr th {\n",
       "        vertical-align: top;\n",
       "    }\n",
       "\n",
       "    .dataframe thead th {\n",
       "        text-align: right;\n",
       "    }\n",
       "</style>\n",
       "<table border=\"1\" class=\"dataframe\">\n",
       "  <thead>\n",
       "    <tr style=\"text-align: right;\">\n",
       "      <th></th>\n",
       "      <th>datetime</th>\n",
       "      <th>datetimeEpoch</th>\n",
       "      <th>tempmax</th>\n",
       "      <th>tempmin</th>\n",
       "      <th>temp</th>\n",
       "      <th>feelslikemax</th>\n",
       "      <th>feelslikemin</th>\n",
       "      <th>feelslike</th>\n",
       "      <th>dew</th>\n",
       "      <th>humidity</th>\n",
       "      <th>...</th>\n",
       "      <th>sunrise</th>\n",
       "      <th>sunriseEpoch</th>\n",
       "      <th>sunset</th>\n",
       "      <th>sunsetEpoch</th>\n",
       "      <th>moonphase</th>\n",
       "      <th>conditions</th>\n",
       "      <th>description</th>\n",
       "      <th>icon</th>\n",
       "      <th>stations</th>\n",
       "      <th>source</th>\n",
       "    </tr>\n",
       "  </thead>\n",
       "  <tbody>\n",
       "    <tr>\n",
       "      <th>0</th>\n",
       "      <td>2020-05-16</td>\n",
       "      <td>1589562000</td>\n",
       "      <td>96.1</td>\n",
       "      <td>77.7</td>\n",
       "      <td>87.1</td>\n",
       "      <td>107.4</td>\n",
       "      <td>77.7</td>\n",
       "      <td>98.7</td>\n",
       "      <td>77.9</td>\n",
       "      <td>75.9</td>\n",
       "      <td>...</td>\n",
       "      <td>05:30:50</td>\n",
       "      <td>1589581850</td>\n",
       "      <td>18:08:28</td>\n",
       "      <td>1589627308</td>\n",
       "      <td>0.79</td>\n",
       "      <td>Rain, Partially cloudy</td>\n",
       "      <td>Partly cloudy throughout the day with rain in ...</td>\n",
       "      <td>rain</td>\n",
       "      <td>['48894099999', '48900099999', 'VVTS']</td>\n",
       "      <td>obs</td>\n",
       "    </tr>\n",
       "    <tr>\n",
       "      <th>1</th>\n",
       "      <td>2020-05-17</td>\n",
       "      <td>1589648400</td>\n",
       "      <td>96.1</td>\n",
       "      <td>84.1</td>\n",
       "      <td>88.1</td>\n",
       "      <td>105.1</td>\n",
       "      <td>94.1</td>\n",
       "      <td>98.6</td>\n",
       "      <td>75.9</td>\n",
       "      <td>68.7</td>\n",
       "      <td>...</td>\n",
       "      <td>05:30:40</td>\n",
       "      <td>1589668240</td>\n",
       "      <td>18:08:41</td>\n",
       "      <td>1589713721</td>\n",
       "      <td>0.82</td>\n",
       "      <td>Rain, Partially cloudy</td>\n",
       "      <td>Partly cloudy throughout the day with a chance...</td>\n",
       "      <td>rain</td>\n",
       "      <td>['48894099999', '48900099999', 'VVTS']</td>\n",
       "      <td>obs</td>\n",
       "    </tr>\n",
       "    <tr>\n",
       "      <th>2</th>\n",
       "      <td>2020-05-18</td>\n",
       "      <td>1589734800</td>\n",
       "      <td>97.9</td>\n",
       "      <td>83.1</td>\n",
       "      <td>89.3</td>\n",
       "      <td>105.6</td>\n",
       "      <td>93.9</td>\n",
       "      <td>100.8</td>\n",
       "      <td>76.4</td>\n",
       "      <td>68.0</td>\n",
       "      <td>...</td>\n",
       "      <td>05:30:31</td>\n",
       "      <td>1589754631</td>\n",
       "      <td>18:08:55</td>\n",
       "      <td>1589800135</td>\n",
       "      <td>0.85</td>\n",
       "      <td>Rain, Partially cloudy</td>\n",
       "      <td>Partly cloudy throughout the day with a chance...</td>\n",
       "      <td>rain</td>\n",
       "      <td>['48894099999', '48900099999', 'VVTS']</td>\n",
       "      <td>obs</td>\n",
       "    </tr>\n",
       "    <tr>\n",
       "      <th>3</th>\n",
       "      <td>2020-05-19</td>\n",
       "      <td>1589821200</td>\n",
       "      <td>99.0</td>\n",
       "      <td>79.5</td>\n",
       "      <td>86.9</td>\n",
       "      <td>107.3</td>\n",
       "      <td>79.5</td>\n",
       "      <td>96.3</td>\n",
       "      <td>76.1</td>\n",
       "      <td>73.2</td>\n",
       "      <td>...</td>\n",
       "      <td>05:30:22</td>\n",
       "      <td>1589841022</td>\n",
       "      <td>18:09:09</td>\n",
       "      <td>1589886549</td>\n",
       "      <td>0.88</td>\n",
       "      <td>Rain, Partially cloudy</td>\n",
       "      <td>Partly cloudy throughout the day with late aft...</td>\n",
       "      <td>rain</td>\n",
       "      <td>['48894099999', '48900099999', 'VVTS']</td>\n",
       "      <td>obs</td>\n",
       "    </tr>\n",
       "    <tr>\n",
       "      <th>4</th>\n",
       "      <td>2020-05-20</td>\n",
       "      <td>1589907600</td>\n",
       "      <td>91.4</td>\n",
       "      <td>80.6</td>\n",
       "      <td>84.0</td>\n",
       "      <td>109.6</td>\n",
       "      <td>87.7</td>\n",
       "      <td>95.8</td>\n",
       "      <td>79.0</td>\n",
       "      <td>85.0</td>\n",
       "      <td>...</td>\n",
       "      <td>05:30:14</td>\n",
       "      <td>1589927414</td>\n",
       "      <td>18:09:24</td>\n",
       "      <td>1589972964</td>\n",
       "      <td>0.92</td>\n",
       "      <td>Rain, Partially cloudy</td>\n",
       "      <td>Partly cloudy throughout the day with rain.</td>\n",
       "      <td>rain</td>\n",
       "      <td>['48894099999', '48900099999', 'VVTS']</td>\n",
       "      <td>obs</td>\n",
       "    </tr>\n",
       "  </tbody>\n",
       "</table>\n",
       "<p>5 rows × 32 columns</p>\n",
       "</div>"
      ],
      "text/plain": [
       "     datetime  datetimeEpoch  tempmax  tempmin  temp  feelslikemax   \n",
       "0  2020-05-16     1589562000     96.1     77.7  87.1         107.4  \\\n",
       "1  2020-05-17     1589648400     96.1     84.1  88.1         105.1   \n",
       "2  2020-05-18     1589734800     97.9     83.1  89.3         105.6   \n",
       "3  2020-05-19     1589821200     99.0     79.5  86.9         107.3   \n",
       "4  2020-05-20     1589907600     91.4     80.6  84.0         109.6   \n",
       "\n",
       "   feelslikemin  feelslike   dew  humidity  ...   sunrise  sunriseEpoch   \n",
       "0          77.7       98.7  77.9      75.9  ...  05:30:50    1589581850  \\\n",
       "1          94.1       98.6  75.9      68.7  ...  05:30:40    1589668240   \n",
       "2          93.9      100.8  76.4      68.0  ...  05:30:31    1589754631   \n",
       "3          79.5       96.3  76.1      73.2  ...  05:30:22    1589841022   \n",
       "4          87.7       95.8  79.0      85.0  ...  05:30:14    1589927414   \n",
       "\n",
       "     sunset  sunsetEpoch  moonphase              conditions   \n",
       "0  18:08:28   1589627308       0.79  Rain, Partially cloudy  \\\n",
       "1  18:08:41   1589713721       0.82  Rain, Partially cloudy   \n",
       "2  18:08:55   1589800135       0.85  Rain, Partially cloudy   \n",
       "3  18:09:09   1589886549       0.88  Rain, Partially cloudy   \n",
       "4  18:09:24   1589972964       0.92  Rain, Partially cloudy   \n",
       "\n",
       "                                         description  icon   \n",
       "0  Partly cloudy throughout the day with rain in ...  rain  \\\n",
       "1  Partly cloudy throughout the day with a chance...  rain   \n",
       "2  Partly cloudy throughout the day with a chance...  rain   \n",
       "3  Partly cloudy throughout the day with late aft...  rain   \n",
       "4        Partly cloudy throughout the day with rain.  rain   \n",
       "\n",
       "                                 stations  source  \n",
       "0  ['48894099999', '48900099999', 'VVTS']     obs  \n",
       "1  ['48894099999', '48900099999', 'VVTS']     obs  \n",
       "2  ['48894099999', '48900099999', 'VVTS']     obs  \n",
       "3  ['48894099999', '48900099999', 'VVTS']     obs  \n",
       "4  ['48894099999', '48900099999', 'VVTS']     obs  \n",
       "\n",
       "[5 rows x 32 columns]"
      ]
     },
     "execution_count": 2,
     "metadata": {},
     "output_type": "execute_result"
    }
   ],
   "source": [
    "data = pd.read_csv('weather.csv', index_col='Unnamed: 0')\n",
    "data.head(5)"
   ]
  },
  {
   "attachments": {},
   "cell_type": "markdown",
   "metadata": {},
   "source": [
    "## Exploratory data analysis"
   ]
  },
  {
   "cell_type": "code",
   "execution_count": 3,
   "metadata": {},
   "outputs": [
    {
     "data": {
      "text/plain": [
       "(999, 32)"
      ]
     },
     "execution_count": 3,
     "metadata": {},
     "output_type": "execute_result"
    }
   ],
   "source": [
    "data.shape\n"
   ]
  },
  {
   "cell_type": "code",
   "execution_count": 4,
   "metadata": {},
   "outputs": [
    {
     "name": "stdout",
     "output_type": "stream",
     "text": [
      "<class 'pandas.core.frame.DataFrame'>\n",
      "Index: 999 entries, 0 to 998\n",
      "Data columns (total 32 columns):\n",
      " #   Column          Non-Null Count  Dtype  \n",
      "---  ------          --------------  -----  \n",
      " 0   datetime        999 non-null    object \n",
      " 1   datetimeEpoch   999 non-null    int64  \n",
      " 2   tempmax         999 non-null    float64\n",
      " 3   tempmin         999 non-null    float64\n",
      " 4   temp            999 non-null    float64\n",
      " 5   feelslikemax    999 non-null    float64\n",
      " 6   feelslikemin    999 non-null    float64\n",
      " 7   feelslike       999 non-null    float64\n",
      " 8   dew             999 non-null    float64\n",
      " 9   humidity        999 non-null    float64\n",
      " 10  precip          999 non-null    float64\n",
      " 11  precipprob      999 non-null    float64\n",
      " 12  precipcover     999 non-null    float64\n",
      " 13  snow            999 non-null    float64\n",
      " 14  snowdepth       999 non-null    float64\n",
      " 15  windspeed       999 non-null    float64\n",
      " 16  winddir         999 non-null    float64\n",
      " 17  cloudcover      999 non-null    float64\n",
      " 18  visibility      999 non-null    float64\n",
      " 19  solarradiation  999 non-null    float64\n",
      " 20  solarenergy     999 non-null    float64\n",
      " 21  uvindex         999 non-null    float64\n",
      " 22  sunrise         999 non-null    object \n",
      " 23  sunriseEpoch    999 non-null    int64  \n",
      " 24  sunset          999 non-null    object \n",
      " 25  sunsetEpoch     999 non-null    int64  \n",
      " 26  moonphase       999 non-null    float64\n",
      " 27  conditions      999 non-null    object \n",
      " 28  description     999 non-null    object \n",
      " 29  icon            999 non-null    object \n",
      " 30  stations        999 non-null    object \n",
      " 31  source          999 non-null    object \n",
      "dtypes: float64(21), int64(3), object(8)\n",
      "memory usage: 257.6+ KB\n"
     ]
    }
   ],
   "source": [
    "data.info()\n"
   ]
  },
  {
   "cell_type": "code",
   "execution_count": 5,
   "metadata": {},
   "outputs": [
    {
     "data": {
      "text/plain": [
       "Index(['datetime', 'datetimeEpoch', 'tempmax', 'tempmin', 'temp',\n",
       "       'feelslikemax', 'feelslikemin', 'feelslike', 'dew', 'humidity',\n",
       "       'precip', 'precipprob', 'precipcover', 'snow', 'snowdepth', 'windspeed',\n",
       "       'winddir', 'cloudcover', 'visibility', 'solarradiation', 'solarenergy',\n",
       "       'uvindex', 'sunrise', 'sunriseEpoch', 'sunset', 'sunsetEpoch',\n",
       "       'moonphase', 'conditions', 'description', 'icon', 'stations', 'source'],\n",
       "      dtype='object')"
      ]
     },
     "execution_count": 5,
     "metadata": {},
     "output_type": "execute_result"
    }
   ],
   "source": [
    "data.columns"
   ]
  },
  {
   "cell_type": "code",
   "execution_count": 6,
   "metadata": {},
   "outputs": [],
   "source": [
    "import plotly.express as px\n"
   ]
  },
  {
   "cell_type": "code",
   "execution_count": 7,
   "metadata": {},
   "outputs": [],
   "source": [
    "def show_bar_singe(x, y, title=None):\n",
    "    \n",
    "    df = pd.DataFrame({'x': x, 'y': y})\n",
    "    px.bar(\n",
    "        df,\n",
    "        x= 'x',\n",
    "        y= 'y',\n",
    "        text_auto='.s',\n",
    "        color='x',\n",
    "        title=title\n",
    "    ).show()"
   ]
  },
  {
   "cell_type": "code",
   "execution_count": 8,
   "metadata": {},
   "outputs": [],
   "source": [
    "def show_bar(data_sub):\n",
    "    x = []\n",
    "    y = []\n",
    "    for name_col in data_sub.columns:\n",
    "        if data_sub[name_col].isnull().sum() > 0:\n",
    "            # print(f'{name_col}  has {data_sub[name_col].isnull().sum()} is null')\n",
    "            x.append(name_col)\n",
    "            y.append(data_sub[name_col].isnull().sum())\n",
    "    df = pd.DataFrame({'x': x, 'y': y})\n",
    "    px.bar(\n",
    "        df,\n",
    "        x= 'x',\n",
    "        y= 'y',\n",
    "        text_auto='.s',\n",
    "        color='x'\n",
    "    ).show()"
   ]
  },
  {
   "cell_type": "code",
   "execution_count": 9,
   "metadata": {},
   "outputs": [
    {
     "data": {
      "text/html": [
       "<div>\n",
       "<style scoped>\n",
       "    .dataframe tbody tr th:only-of-type {\n",
       "        vertical-align: middle;\n",
       "    }\n",
       "\n",
       "    .dataframe tbody tr th {\n",
       "        vertical-align: top;\n",
       "    }\n",
       "\n",
       "    .dataframe thead th {\n",
       "        text-align: right;\n",
       "    }\n",
       "</style>\n",
       "<table border=\"1\" class=\"dataframe\">\n",
       "  <thead>\n",
       "    <tr style=\"text-align: right;\">\n",
       "      <th></th>\n",
       "      <th>datetime</th>\n",
       "      <th>datetimeEpoch</th>\n",
       "      <th>tempmax</th>\n",
       "      <th>tempmin</th>\n",
       "      <th>temp</th>\n",
       "      <th>feelslikemax</th>\n",
       "      <th>feelslikemin</th>\n",
       "      <th>feelslike</th>\n",
       "      <th>dew</th>\n",
       "      <th>humidity</th>\n",
       "      <th>...</th>\n",
       "      <th>sunrise</th>\n",
       "      <th>sunriseEpoch</th>\n",
       "      <th>sunset</th>\n",
       "      <th>sunsetEpoch</th>\n",
       "      <th>moonphase</th>\n",
       "      <th>conditions</th>\n",
       "      <th>description</th>\n",
       "      <th>icon</th>\n",
       "      <th>stations</th>\n",
       "      <th>source</th>\n",
       "    </tr>\n",
       "  </thead>\n",
       "  <tbody>\n",
       "    <tr>\n",
       "      <th>0</th>\n",
       "      <td>2020-05-16</td>\n",
       "      <td>1589562000</td>\n",
       "      <td>96.1</td>\n",
       "      <td>77.7</td>\n",
       "      <td>87.1</td>\n",
       "      <td>107.4</td>\n",
       "      <td>77.7</td>\n",
       "      <td>98.7</td>\n",
       "      <td>77.9</td>\n",
       "      <td>75.9</td>\n",
       "      <td>...</td>\n",
       "      <td>05:30:50</td>\n",
       "      <td>1589581850</td>\n",
       "      <td>18:08:28</td>\n",
       "      <td>1589627308</td>\n",
       "      <td>0.79</td>\n",
       "      <td>Rain, Partially cloudy</td>\n",
       "      <td>Partly cloudy throughout the day with rain in ...</td>\n",
       "      <td>rain</td>\n",
       "      <td>['48894099999', '48900099999', 'VVTS']</td>\n",
       "      <td>obs</td>\n",
       "    </tr>\n",
       "    <tr>\n",
       "      <th>1</th>\n",
       "      <td>2020-05-17</td>\n",
       "      <td>1589648400</td>\n",
       "      <td>96.1</td>\n",
       "      <td>84.1</td>\n",
       "      <td>88.1</td>\n",
       "      <td>105.1</td>\n",
       "      <td>94.1</td>\n",
       "      <td>98.6</td>\n",
       "      <td>75.9</td>\n",
       "      <td>68.7</td>\n",
       "      <td>...</td>\n",
       "      <td>05:30:40</td>\n",
       "      <td>1589668240</td>\n",
       "      <td>18:08:41</td>\n",
       "      <td>1589713721</td>\n",
       "      <td>0.82</td>\n",
       "      <td>Rain, Partially cloudy</td>\n",
       "      <td>Partly cloudy throughout the day with a chance...</td>\n",
       "      <td>rain</td>\n",
       "      <td>['48894099999', '48900099999', 'VVTS']</td>\n",
       "      <td>obs</td>\n",
       "    </tr>\n",
       "    <tr>\n",
       "      <th>2</th>\n",
       "      <td>2020-05-18</td>\n",
       "      <td>1589734800</td>\n",
       "      <td>97.9</td>\n",
       "      <td>83.1</td>\n",
       "      <td>89.3</td>\n",
       "      <td>105.6</td>\n",
       "      <td>93.9</td>\n",
       "      <td>100.8</td>\n",
       "      <td>76.4</td>\n",
       "      <td>68.0</td>\n",
       "      <td>...</td>\n",
       "      <td>05:30:31</td>\n",
       "      <td>1589754631</td>\n",
       "      <td>18:08:55</td>\n",
       "      <td>1589800135</td>\n",
       "      <td>0.85</td>\n",
       "      <td>Rain, Partially cloudy</td>\n",
       "      <td>Partly cloudy throughout the day with a chance...</td>\n",
       "      <td>rain</td>\n",
       "      <td>['48894099999', '48900099999', 'VVTS']</td>\n",
       "      <td>obs</td>\n",
       "    </tr>\n",
       "    <tr>\n",
       "      <th>3</th>\n",
       "      <td>2020-05-19</td>\n",
       "      <td>1589821200</td>\n",
       "      <td>99.0</td>\n",
       "      <td>79.5</td>\n",
       "      <td>86.9</td>\n",
       "      <td>107.3</td>\n",
       "      <td>79.5</td>\n",
       "      <td>96.3</td>\n",
       "      <td>76.1</td>\n",
       "      <td>73.2</td>\n",
       "      <td>...</td>\n",
       "      <td>05:30:22</td>\n",
       "      <td>1589841022</td>\n",
       "      <td>18:09:09</td>\n",
       "      <td>1589886549</td>\n",
       "      <td>0.88</td>\n",
       "      <td>Rain, Partially cloudy</td>\n",
       "      <td>Partly cloudy throughout the day with late aft...</td>\n",
       "      <td>rain</td>\n",
       "      <td>['48894099999', '48900099999', 'VVTS']</td>\n",
       "      <td>obs</td>\n",
       "    </tr>\n",
       "    <tr>\n",
       "      <th>4</th>\n",
       "      <td>2020-05-20</td>\n",
       "      <td>1589907600</td>\n",
       "      <td>91.4</td>\n",
       "      <td>80.6</td>\n",
       "      <td>84.0</td>\n",
       "      <td>109.6</td>\n",
       "      <td>87.7</td>\n",
       "      <td>95.8</td>\n",
       "      <td>79.0</td>\n",
       "      <td>85.0</td>\n",
       "      <td>...</td>\n",
       "      <td>05:30:14</td>\n",
       "      <td>1589927414</td>\n",
       "      <td>18:09:24</td>\n",
       "      <td>1589972964</td>\n",
       "      <td>0.92</td>\n",
       "      <td>Rain, Partially cloudy</td>\n",
       "      <td>Partly cloudy throughout the day with rain.</td>\n",
       "      <td>rain</td>\n",
       "      <td>['48894099999', '48900099999', 'VVTS']</td>\n",
       "      <td>obs</td>\n",
       "    </tr>\n",
       "  </tbody>\n",
       "</table>\n",
       "<p>5 rows × 32 columns</p>\n",
       "</div>"
      ],
      "text/plain": [
       "     datetime  datetimeEpoch  tempmax  tempmin  temp  feelslikemax   \n",
       "0  2020-05-16     1589562000     96.1     77.7  87.1         107.4  \\\n",
       "1  2020-05-17     1589648400     96.1     84.1  88.1         105.1   \n",
       "2  2020-05-18     1589734800     97.9     83.1  89.3         105.6   \n",
       "3  2020-05-19     1589821200     99.0     79.5  86.9         107.3   \n",
       "4  2020-05-20     1589907600     91.4     80.6  84.0         109.6   \n",
       "\n",
       "   feelslikemin  feelslike   dew  humidity  ...   sunrise  sunriseEpoch   \n",
       "0          77.7       98.7  77.9      75.9  ...  05:30:50    1589581850  \\\n",
       "1          94.1       98.6  75.9      68.7  ...  05:30:40    1589668240   \n",
       "2          93.9      100.8  76.4      68.0  ...  05:30:31    1589754631   \n",
       "3          79.5       96.3  76.1      73.2  ...  05:30:22    1589841022   \n",
       "4          87.7       95.8  79.0      85.0  ...  05:30:14    1589927414   \n",
       "\n",
       "     sunset  sunsetEpoch  moonphase              conditions   \n",
       "0  18:08:28   1589627308       0.79  Rain, Partially cloudy  \\\n",
       "1  18:08:41   1589713721       0.82  Rain, Partially cloudy   \n",
       "2  18:08:55   1589800135       0.85  Rain, Partially cloudy   \n",
       "3  18:09:09   1589886549       0.88  Rain, Partially cloudy   \n",
       "4  18:09:24   1589972964       0.92  Rain, Partially cloudy   \n",
       "\n",
       "                                         description  icon   \n",
       "0  Partly cloudy throughout the day with rain in ...  rain  \\\n",
       "1  Partly cloudy throughout the day with a chance...  rain   \n",
       "2  Partly cloudy throughout the day with a chance...  rain   \n",
       "3  Partly cloudy throughout the day with late aft...  rain   \n",
       "4        Partly cloudy throughout the day with rain.  rain   \n",
       "\n",
       "                                 stations  source  \n",
       "0  ['48894099999', '48900099999', 'VVTS']     obs  \n",
       "1  ['48894099999', '48900099999', 'VVTS']     obs  \n",
       "2  ['48894099999', '48900099999', 'VVTS']     obs  \n",
       "3  ['48894099999', '48900099999', 'VVTS']     obs  \n",
       "4  ['48894099999', '48900099999', 'VVTS']     obs  \n",
       "\n",
       "[5 rows x 32 columns]"
      ]
     },
     "execution_count": 9,
     "metadata": {},
     "output_type": "execute_result"
    }
   ],
   "source": [
    "data = data.drop(data[data.precip.isnull()].index, axis=0)\n",
    "data.head(5)"
   ]
  },
  {
   "cell_type": "code",
   "execution_count": 10,
   "metadata": {},
   "outputs": [],
   "source": [
    "data.datetime = pd.to_datetime(data.datetime)\n"
   ]
  },
  {
   "cell_type": "code",
   "execution_count": 11,
   "metadata": {},
   "outputs": [],
   "source": [
    "data['week'] = data.datetime.dt.weekday\n",
    "data['month'] = data.datetime.dt.month\n",
    "data['year'] = data.datetime.dt.year"
   ]
  },
  {
   "cell_type": "code",
   "execution_count": 12,
   "metadata": {},
   "outputs": [],
   "source": [
    "data.drop('datetime', inplace=True, axis=1)\n"
   ]
  },
  {
   "cell_type": "code",
   "execution_count": 13,
   "metadata": {},
   "outputs": [
    {
     "data": {
      "text/html": [
       "<div>\n",
       "<style scoped>\n",
       "    .dataframe tbody tr th:only-of-type {\n",
       "        vertical-align: middle;\n",
       "    }\n",
       "\n",
       "    .dataframe tbody tr th {\n",
       "        vertical-align: top;\n",
       "    }\n",
       "\n",
       "    .dataframe thead th {\n",
       "        text-align: right;\n",
       "    }\n",
       "</style>\n",
       "<table border=\"1\" class=\"dataframe\">\n",
       "  <thead>\n",
       "    <tr style=\"text-align: right;\">\n",
       "      <th></th>\n",
       "      <th>datetimeEpoch</th>\n",
       "      <th>tempmax</th>\n",
       "      <th>tempmin</th>\n",
       "      <th>temp</th>\n",
       "      <th>feelslikemax</th>\n",
       "      <th>feelslikemin</th>\n",
       "      <th>feelslike</th>\n",
       "      <th>dew</th>\n",
       "      <th>humidity</th>\n",
       "      <th>precip</th>\n",
       "      <th>...</th>\n",
       "      <th>sunsetEpoch</th>\n",
       "      <th>moonphase</th>\n",
       "      <th>conditions</th>\n",
       "      <th>description</th>\n",
       "      <th>icon</th>\n",
       "      <th>stations</th>\n",
       "      <th>source</th>\n",
       "      <th>week</th>\n",
       "      <th>month</th>\n",
       "      <th>year</th>\n",
       "    </tr>\n",
       "  </thead>\n",
       "  <tbody>\n",
       "    <tr>\n",
       "      <th>0</th>\n",
       "      <td>1589562000</td>\n",
       "      <td>96.1</td>\n",
       "      <td>77.7</td>\n",
       "      <td>87.1</td>\n",
       "      <td>107.4</td>\n",
       "      <td>77.7</td>\n",
       "      <td>98.7</td>\n",
       "      <td>77.9</td>\n",
       "      <td>75.9</td>\n",
       "      <td>1.0</td>\n",
       "      <td>...</td>\n",
       "      <td>1589627308</td>\n",
       "      <td>0.79</td>\n",
       "      <td>Rain, Partially cloudy</td>\n",
       "      <td>Partly cloudy throughout the day with rain in ...</td>\n",
       "      <td>rain</td>\n",
       "      <td>['48894099999', '48900099999', 'VVTS']</td>\n",
       "      <td>obs</td>\n",
       "      <td>5</td>\n",
       "      <td>5</td>\n",
       "      <td>2020</td>\n",
       "    </tr>\n",
       "    <tr>\n",
       "      <th>1</th>\n",
       "      <td>1589648400</td>\n",
       "      <td>96.1</td>\n",
       "      <td>84.1</td>\n",
       "      <td>88.1</td>\n",
       "      <td>105.1</td>\n",
       "      <td>94.1</td>\n",
       "      <td>98.6</td>\n",
       "      <td>75.9</td>\n",
       "      <td>68.7</td>\n",
       "      <td>1.0</td>\n",
       "      <td>...</td>\n",
       "      <td>1589713721</td>\n",
       "      <td>0.82</td>\n",
       "      <td>Rain, Partially cloudy</td>\n",
       "      <td>Partly cloudy throughout the day with a chance...</td>\n",
       "      <td>rain</td>\n",
       "      <td>['48894099999', '48900099999', 'VVTS']</td>\n",
       "      <td>obs</td>\n",
       "      <td>6</td>\n",
       "      <td>5</td>\n",
       "      <td>2020</td>\n",
       "    </tr>\n",
       "    <tr>\n",
       "      <th>2</th>\n",
       "      <td>1589734800</td>\n",
       "      <td>97.9</td>\n",
       "      <td>83.1</td>\n",
       "      <td>89.3</td>\n",
       "      <td>105.6</td>\n",
       "      <td>93.9</td>\n",
       "      <td>100.8</td>\n",
       "      <td>76.4</td>\n",
       "      <td>68.0</td>\n",
       "      <td>1.0</td>\n",
       "      <td>...</td>\n",
       "      <td>1589800135</td>\n",
       "      <td>0.85</td>\n",
       "      <td>Rain, Partially cloudy</td>\n",
       "      <td>Partly cloudy throughout the day with a chance...</td>\n",
       "      <td>rain</td>\n",
       "      <td>['48894099999', '48900099999', 'VVTS']</td>\n",
       "      <td>obs</td>\n",
       "      <td>0</td>\n",
       "      <td>5</td>\n",
       "      <td>2020</td>\n",
       "    </tr>\n",
       "    <tr>\n",
       "      <th>3</th>\n",
       "      <td>1589821200</td>\n",
       "      <td>99.0</td>\n",
       "      <td>79.5</td>\n",
       "      <td>86.9</td>\n",
       "      <td>107.3</td>\n",
       "      <td>79.5</td>\n",
       "      <td>96.3</td>\n",
       "      <td>76.1</td>\n",
       "      <td>73.2</td>\n",
       "      <td>1.0</td>\n",
       "      <td>...</td>\n",
       "      <td>1589886549</td>\n",
       "      <td>0.88</td>\n",
       "      <td>Rain, Partially cloudy</td>\n",
       "      <td>Partly cloudy throughout the day with late aft...</td>\n",
       "      <td>rain</td>\n",
       "      <td>['48894099999', '48900099999', 'VVTS']</td>\n",
       "      <td>obs</td>\n",
       "      <td>1</td>\n",
       "      <td>5</td>\n",
       "      <td>2020</td>\n",
       "    </tr>\n",
       "    <tr>\n",
       "      <th>4</th>\n",
       "      <td>1589907600</td>\n",
       "      <td>91.4</td>\n",
       "      <td>80.6</td>\n",
       "      <td>84.0</td>\n",
       "      <td>109.6</td>\n",
       "      <td>87.7</td>\n",
       "      <td>95.8</td>\n",
       "      <td>79.0</td>\n",
       "      <td>85.0</td>\n",
       "      <td>1.0</td>\n",
       "      <td>...</td>\n",
       "      <td>1589972964</td>\n",
       "      <td>0.92</td>\n",
       "      <td>Rain, Partially cloudy</td>\n",
       "      <td>Partly cloudy throughout the day with rain.</td>\n",
       "      <td>rain</td>\n",
       "      <td>['48894099999', '48900099999', 'VVTS']</td>\n",
       "      <td>obs</td>\n",
       "      <td>2</td>\n",
       "      <td>5</td>\n",
       "      <td>2020</td>\n",
       "    </tr>\n",
       "  </tbody>\n",
       "</table>\n",
       "<p>5 rows × 34 columns</p>\n",
       "</div>"
      ],
      "text/plain": [
       "   datetimeEpoch  tempmax  tempmin  temp  feelslikemax  feelslikemin   \n",
       "0     1589562000     96.1     77.7  87.1         107.4          77.7  \\\n",
       "1     1589648400     96.1     84.1  88.1         105.1          94.1   \n",
       "2     1589734800     97.9     83.1  89.3         105.6          93.9   \n",
       "3     1589821200     99.0     79.5  86.9         107.3          79.5   \n",
       "4     1589907600     91.4     80.6  84.0         109.6          87.7   \n",
       "\n",
       "   feelslike   dew  humidity  precip  ...  sunsetEpoch  moonphase   \n",
       "0       98.7  77.9      75.9     1.0  ...   1589627308       0.79  \\\n",
       "1       98.6  75.9      68.7     1.0  ...   1589713721       0.82   \n",
       "2      100.8  76.4      68.0     1.0  ...   1589800135       0.85   \n",
       "3       96.3  76.1      73.2     1.0  ...   1589886549       0.88   \n",
       "4       95.8  79.0      85.0     1.0  ...   1589972964       0.92   \n",
       "\n",
       "               conditions                                        description   \n",
       "0  Rain, Partially cloudy  Partly cloudy throughout the day with rain in ...  \\\n",
       "1  Rain, Partially cloudy  Partly cloudy throughout the day with a chance...   \n",
       "2  Rain, Partially cloudy  Partly cloudy throughout the day with a chance...   \n",
       "3  Rain, Partially cloudy  Partly cloudy throughout the day with late aft...   \n",
       "4  Rain, Partially cloudy        Partly cloudy throughout the day with rain.   \n",
       "\n",
       "   icon                                stations  source  week  month  year  \n",
       "0  rain  ['48894099999', '48900099999', 'VVTS']     obs     5      5  2020  \n",
       "1  rain  ['48894099999', '48900099999', 'VVTS']     obs     6      5  2020  \n",
       "2  rain  ['48894099999', '48900099999', 'VVTS']     obs     0      5  2020  \n",
       "3  rain  ['48894099999', '48900099999', 'VVTS']     obs     1      5  2020  \n",
       "4  rain  ['48894099999', '48900099999', 'VVTS']     obs     2      5  2020  \n",
       "\n",
       "[5 rows x 34 columns]"
      ]
     },
     "execution_count": 13,
     "metadata": {},
     "output_type": "execute_result"
    }
   ],
   "source": [
    "data.head(5)\n"
   ]
  },
  {
   "attachments": {},
   "cell_type": "markdown",
   "metadata": {},
   "source": [
    "## Check oulier in number variable\n"
   ]
  },
  {
   "cell_type": "code",
   "execution_count": 14,
   "metadata": {},
   "outputs": [
    {
     "data": {
      "text/plain": [
       "True"
      ]
     },
     "execution_count": 14,
     "metadata": {},
     "output_type": "execute_result"
    }
   ],
   "source": [
    "data.feelslikemax.dtype == 'float64'"
   ]
  },
  {
   "cell_type": "code",
   "execution_count": 15,
   "metadata": {},
   "outputs": [],
   "source": [
    "number_var  = [var for var in data.columns if data[var].dtype == 'float64']"
   ]
  },
  {
   "cell_type": "code",
   "execution_count": 16,
   "metadata": {},
   "outputs": [],
   "source": [
    "def show_ourlies(data_sub):\n",
    "    x = []\n",
    "    y = []\n",
    "    for name_col in data_sub.columns:\n",
    "        desc  = data_sub[name_col].describe()\n",
    "        \n",
    "        iqr = desc['75%'] - desc['25%']\n",
    "        lower_bound = desc['25%'] - 1.5 * iqr\n",
    "        upper_bound = desc['75%'] + 1.5 * iqr\n",
    "        outliers = data_sub[(data_sub[name_col] < lower_bound) | (data_sub[name_col] > upper_bound)]\n",
    "        if len(outliers) > 0:\n",
    "            x.append(name_col)\n",
    "            y.append(len(outliers))\n",
    "\n",
    "    show_bar_singe(x, y, title = \"Statistic columns be Outlier\")"
   ]
  },
  {
   "cell_type": "code",
   "execution_count": 17,
   "metadata": {},
   "outputs": [
    {
     "data": {
      "application/vnd.plotly.v1+json": {
       "config": {
        "plotlyServerURL": "https://plot.ly"
       },
       "data": [
        {
         "alignmentgroup": "True",
         "hovertemplate": "x=%{x}<br>y=%{y}<extra></extra>",
         "legendgroup": "tempmax",
         "marker": {
          "color": "#636efa",
          "pattern": {
           "shape": ""
          }
         },
         "name": "tempmax",
         "offsetgroup": "tempmax",
         "orientation": "v",
         "showlegend": true,
         "textposition": "auto",
         "texttemplate": "%{y:.s}",
         "type": "bar",
         "x": [
          "tempmax"
         ],
         "xaxis": "x",
         "y": [
          16
         ],
         "yaxis": "y"
        },
        {
         "alignmentgroup": "True",
         "hovertemplate": "x=%{x}<br>y=%{y}<extra></extra>",
         "legendgroup": "tempmin",
         "marker": {
          "color": "#EF553B",
          "pattern": {
           "shape": ""
          }
         },
         "name": "tempmin",
         "offsetgroup": "tempmin",
         "orientation": "v",
         "showlegend": true,
         "textposition": "auto",
         "texttemplate": "%{y:.s}",
         "type": "bar",
         "x": [
          "tempmin"
         ],
         "xaxis": "x",
         "y": [
          27
         ],
         "yaxis": "y"
        },
        {
         "alignmentgroup": "True",
         "hovertemplate": "x=%{x}<br>y=%{y}<extra></extra>",
         "legendgroup": "temp",
         "marker": {
          "color": "#00cc96",
          "pattern": {
           "shape": ""
          }
         },
         "name": "temp",
         "offsetgroup": "temp",
         "orientation": "v",
         "showlegend": true,
         "textposition": "auto",
         "texttemplate": "%{y:.s}",
         "type": "bar",
         "x": [
          "temp"
         ],
         "xaxis": "x",
         "y": [
          6
         ],
         "yaxis": "y"
        },
        {
         "alignmentgroup": "True",
         "hovertemplate": "x=%{x}<br>y=%{y}<extra></extra>",
         "legendgroup": "feelslikemax",
         "marker": {
          "color": "#ab63fa",
          "pattern": {
           "shape": ""
          }
         },
         "name": "feelslikemax",
         "offsetgroup": "feelslikemax",
         "orientation": "v",
         "showlegend": true,
         "textposition": "auto",
         "texttemplate": "%{y:.s}",
         "type": "bar",
         "x": [
          "feelslikemax"
         ],
         "xaxis": "x",
         "y": [
          2
         ],
         "yaxis": "y"
        },
        {
         "alignmentgroup": "True",
         "hovertemplate": "x=%{x}<br>y=%{y}<extra></extra>",
         "legendgroup": "feelslikemin",
         "marker": {
          "color": "#FFA15A",
          "pattern": {
           "shape": ""
          }
         },
         "name": "feelslikemin",
         "offsetgroup": "feelslikemin",
         "orientation": "v",
         "showlegend": true,
         "textposition": "auto",
         "texttemplate": "%{y:.s}",
         "type": "bar",
         "x": [
          "feelslikemin"
         ],
         "xaxis": "x",
         "y": [
          145
         ],
         "yaxis": "y"
        },
        {
         "alignmentgroup": "True",
         "hovertemplate": "x=%{x}<br>y=%{y}<extra></extra>",
         "legendgroup": "feelslike",
         "marker": {
          "color": "#19d3f3",
          "pattern": {
           "shape": ""
          }
         },
         "name": "feelslike",
         "offsetgroup": "feelslike",
         "orientation": "v",
         "showlegend": true,
         "textposition": "auto",
         "texttemplate": "%{y:.s}",
         "type": "bar",
         "x": [
          "feelslike"
         ],
         "xaxis": "x",
         "y": [
          7
         ],
         "yaxis": "y"
        },
        {
         "alignmentgroup": "True",
         "hovertemplate": "x=%{x}<br>y=%{y}<extra></extra>",
         "legendgroup": "dew",
         "marker": {
          "color": "#FF6692",
          "pattern": {
           "shape": ""
          }
         },
         "name": "dew",
         "offsetgroup": "dew",
         "orientation": "v",
         "showlegend": true,
         "textposition": "auto",
         "texttemplate": "%{y:.s}",
         "type": "bar",
         "x": [
          "dew"
         ],
         "xaxis": "x",
         "y": [
          39
         ],
         "yaxis": "y"
        },
        {
         "alignmentgroup": "True",
         "hovertemplate": "x=%{x}<br>y=%{y}<extra></extra>",
         "legendgroup": "humidity",
         "marker": {
          "color": "#B6E880",
          "pattern": {
           "shape": ""
          }
         },
         "name": "humidity",
         "offsetgroup": "humidity",
         "orientation": "v",
         "showlegend": true,
         "textposition": "auto",
         "texttemplate": "%{y:.s}",
         "type": "bar",
         "x": [
          "humidity"
         ],
         "xaxis": "x",
         "y": [
          1
         ],
         "yaxis": "y"
        },
        {
         "alignmentgroup": "True",
         "hovertemplate": "x=%{x}<br>y=%{y}<extra></extra>",
         "legendgroup": "precip",
         "marker": {
          "color": "#FF97FF",
          "pattern": {
           "shape": ""
          }
         },
         "name": "precip",
         "offsetgroup": "precip",
         "orientation": "v",
         "showlegend": true,
         "textposition": "auto",
         "texttemplate": "%{y:.s}",
         "type": "bar",
         "x": [
          "precip"
         ],
         "xaxis": "x",
         "y": [
          238
         ],
         "yaxis": "y"
        },
        {
         "alignmentgroup": "True",
         "hovertemplate": "x=%{x}<br>y=%{y}<extra></extra>",
         "legendgroup": "precipprob",
         "marker": {
          "color": "#FECB52",
          "pattern": {
           "shape": ""
          }
         },
         "name": "precipprob",
         "offsetgroup": "precipprob",
         "orientation": "v",
         "showlegend": true,
         "textposition": "auto",
         "texttemplate": "%{y:.s}",
         "type": "bar",
         "x": [
          "precipprob"
         ],
         "xaxis": "x",
         "y": [
          237
         ],
         "yaxis": "y"
        },
        {
         "alignmentgroup": "True",
         "hovertemplate": "x=%{x}<br>y=%{y}<extra></extra>",
         "legendgroup": "precipcover",
         "marker": {
          "color": "#636efa",
          "pattern": {
           "shape": ""
          }
         },
         "name": "precipcover",
         "offsetgroup": "precipcover",
         "orientation": "v",
         "showlegend": true,
         "textposition": "auto",
         "texttemplate": "%{y:.s}",
         "type": "bar",
         "x": [
          "precipcover"
         ],
         "xaxis": "x",
         "y": [
          184
         ],
         "yaxis": "y"
        },
        {
         "alignmentgroup": "True",
         "hovertemplate": "x=%{x}<br>y=%{y}<extra></extra>",
         "legendgroup": "windspeed",
         "marker": {
          "color": "#EF553B",
          "pattern": {
           "shape": ""
          }
         },
         "name": "windspeed",
         "offsetgroup": "windspeed",
         "orientation": "v",
         "showlegend": true,
         "textposition": "auto",
         "texttemplate": "%{y:.s}",
         "type": "bar",
         "x": [
          "windspeed"
         ],
         "xaxis": "x",
         "y": [
          24
         ],
         "yaxis": "y"
        },
        {
         "alignmentgroup": "True",
         "hovertemplate": "x=%{x}<br>y=%{y}<extra></extra>",
         "legendgroup": "cloudcover",
         "marker": {
          "color": "#00cc96",
          "pattern": {
           "shape": ""
          }
         },
         "name": "cloudcover",
         "offsetgroup": "cloudcover",
         "orientation": "v",
         "showlegend": true,
         "textposition": "auto",
         "texttemplate": "%{y:.s}",
         "type": "bar",
         "x": [
          "cloudcover"
         ],
         "xaxis": "x",
         "y": [
          17
         ],
         "yaxis": "y"
        },
        {
         "alignmentgroup": "True",
         "hovertemplate": "x=%{x}<br>y=%{y}<extra></extra>",
         "legendgroup": "visibility",
         "marker": {
          "color": "#ab63fa",
          "pattern": {
           "shape": ""
          }
         },
         "name": "visibility",
         "offsetgroup": "visibility",
         "orientation": "v",
         "showlegend": true,
         "textposition": "auto",
         "texttemplate": "%{y:.s}",
         "type": "bar",
         "x": [
          "visibility"
         ],
         "xaxis": "x",
         "y": [
          7
         ],
         "yaxis": "y"
        },
        {
         "alignmentgroup": "True",
         "hovertemplate": "x=%{x}<br>y=%{y}<extra></extra>",
         "legendgroup": "solarradiation",
         "marker": {
          "color": "#FFA15A",
          "pattern": {
           "shape": ""
          }
         },
         "name": "solarradiation",
         "offsetgroup": "solarradiation",
         "orientation": "v",
         "showlegend": true,
         "textposition": "auto",
         "texttemplate": "%{y:.s}",
         "type": "bar",
         "x": [
          "solarradiation"
         ],
         "xaxis": "x",
         "y": [
          2
         ],
         "yaxis": "y"
        },
        {
         "alignmentgroup": "True",
         "hovertemplate": "x=%{x}<br>y=%{y}<extra></extra>",
         "legendgroup": "solarenergy",
         "marker": {
          "color": "#19d3f3",
          "pattern": {
           "shape": ""
          }
         },
         "name": "solarenergy",
         "offsetgroup": "solarenergy",
         "orientation": "v",
         "showlegend": true,
         "textposition": "auto",
         "texttemplate": "%{y:.s}",
         "type": "bar",
         "x": [
          "solarenergy"
         ],
         "xaxis": "x",
         "y": [
          2
         ],
         "yaxis": "y"
        },
        {
         "alignmentgroup": "True",
         "hovertemplate": "x=%{x}<br>y=%{y}<extra></extra>",
         "legendgroup": "uvindex",
         "marker": {
          "color": "#FF6692",
          "pattern": {
           "shape": ""
          }
         },
         "name": "uvindex",
         "offsetgroup": "uvindex",
         "orientation": "v",
         "showlegend": true,
         "textposition": "auto",
         "texttemplate": "%{y:.s}",
         "type": "bar",
         "x": [
          "uvindex"
         ],
         "xaxis": "x",
         "y": [
          2
         ],
         "yaxis": "y"
        }
       ],
       "layout": {
        "barmode": "relative",
        "legend": {
         "title": {
          "text": "x"
         },
         "tracegroupgap": 0
        },
        "template": {
         "data": {
          "bar": [
           {
            "error_x": {
             "color": "#2a3f5f"
            },
            "error_y": {
             "color": "#2a3f5f"
            },
            "marker": {
             "line": {
              "color": "#E5ECF6",
              "width": 0.5
             },
             "pattern": {
              "fillmode": "overlay",
              "size": 10,
              "solidity": 0.2
             }
            },
            "type": "bar"
           }
          ],
          "barpolar": [
           {
            "marker": {
             "line": {
              "color": "#E5ECF6",
              "width": 0.5
             },
             "pattern": {
              "fillmode": "overlay",
              "size": 10,
              "solidity": 0.2
             }
            },
            "type": "barpolar"
           }
          ],
          "carpet": [
           {
            "aaxis": {
             "endlinecolor": "#2a3f5f",
             "gridcolor": "white",
             "linecolor": "white",
             "minorgridcolor": "white",
             "startlinecolor": "#2a3f5f"
            },
            "baxis": {
             "endlinecolor": "#2a3f5f",
             "gridcolor": "white",
             "linecolor": "white",
             "minorgridcolor": "white",
             "startlinecolor": "#2a3f5f"
            },
            "type": "carpet"
           }
          ],
          "choropleth": [
           {
            "colorbar": {
             "outlinewidth": 0,
             "ticks": ""
            },
            "type": "choropleth"
           }
          ],
          "contour": [
           {
            "colorbar": {
             "outlinewidth": 0,
             "ticks": ""
            },
            "colorscale": [
             [
              0,
              "#0d0887"
             ],
             [
              0.1111111111111111,
              "#46039f"
             ],
             [
              0.2222222222222222,
              "#7201a8"
             ],
             [
              0.3333333333333333,
              "#9c179e"
             ],
             [
              0.4444444444444444,
              "#bd3786"
             ],
             [
              0.5555555555555556,
              "#d8576b"
             ],
             [
              0.6666666666666666,
              "#ed7953"
             ],
             [
              0.7777777777777778,
              "#fb9f3a"
             ],
             [
              0.8888888888888888,
              "#fdca26"
             ],
             [
              1,
              "#f0f921"
             ]
            ],
            "type": "contour"
           }
          ],
          "contourcarpet": [
           {
            "colorbar": {
             "outlinewidth": 0,
             "ticks": ""
            },
            "type": "contourcarpet"
           }
          ],
          "heatmap": [
           {
            "colorbar": {
             "outlinewidth": 0,
             "ticks": ""
            },
            "colorscale": [
             [
              0,
              "#0d0887"
             ],
             [
              0.1111111111111111,
              "#46039f"
             ],
             [
              0.2222222222222222,
              "#7201a8"
             ],
             [
              0.3333333333333333,
              "#9c179e"
             ],
             [
              0.4444444444444444,
              "#bd3786"
             ],
             [
              0.5555555555555556,
              "#d8576b"
             ],
             [
              0.6666666666666666,
              "#ed7953"
             ],
             [
              0.7777777777777778,
              "#fb9f3a"
             ],
             [
              0.8888888888888888,
              "#fdca26"
             ],
             [
              1,
              "#f0f921"
             ]
            ],
            "type": "heatmap"
           }
          ],
          "heatmapgl": [
           {
            "colorbar": {
             "outlinewidth": 0,
             "ticks": ""
            },
            "colorscale": [
             [
              0,
              "#0d0887"
             ],
             [
              0.1111111111111111,
              "#46039f"
             ],
             [
              0.2222222222222222,
              "#7201a8"
             ],
             [
              0.3333333333333333,
              "#9c179e"
             ],
             [
              0.4444444444444444,
              "#bd3786"
             ],
             [
              0.5555555555555556,
              "#d8576b"
             ],
             [
              0.6666666666666666,
              "#ed7953"
             ],
             [
              0.7777777777777778,
              "#fb9f3a"
             ],
             [
              0.8888888888888888,
              "#fdca26"
             ],
             [
              1,
              "#f0f921"
             ]
            ],
            "type": "heatmapgl"
           }
          ],
          "histogram": [
           {
            "marker": {
             "pattern": {
              "fillmode": "overlay",
              "size": 10,
              "solidity": 0.2
             }
            },
            "type": "histogram"
           }
          ],
          "histogram2d": [
           {
            "colorbar": {
             "outlinewidth": 0,
             "ticks": ""
            },
            "colorscale": [
             [
              0,
              "#0d0887"
             ],
             [
              0.1111111111111111,
              "#46039f"
             ],
             [
              0.2222222222222222,
              "#7201a8"
             ],
             [
              0.3333333333333333,
              "#9c179e"
             ],
             [
              0.4444444444444444,
              "#bd3786"
             ],
             [
              0.5555555555555556,
              "#d8576b"
             ],
             [
              0.6666666666666666,
              "#ed7953"
             ],
             [
              0.7777777777777778,
              "#fb9f3a"
             ],
             [
              0.8888888888888888,
              "#fdca26"
             ],
             [
              1,
              "#f0f921"
             ]
            ],
            "type": "histogram2d"
           }
          ],
          "histogram2dcontour": [
           {
            "colorbar": {
             "outlinewidth": 0,
             "ticks": ""
            },
            "colorscale": [
             [
              0,
              "#0d0887"
             ],
             [
              0.1111111111111111,
              "#46039f"
             ],
             [
              0.2222222222222222,
              "#7201a8"
             ],
             [
              0.3333333333333333,
              "#9c179e"
             ],
             [
              0.4444444444444444,
              "#bd3786"
             ],
             [
              0.5555555555555556,
              "#d8576b"
             ],
             [
              0.6666666666666666,
              "#ed7953"
             ],
             [
              0.7777777777777778,
              "#fb9f3a"
             ],
             [
              0.8888888888888888,
              "#fdca26"
             ],
             [
              1,
              "#f0f921"
             ]
            ],
            "type": "histogram2dcontour"
           }
          ],
          "mesh3d": [
           {
            "colorbar": {
             "outlinewidth": 0,
             "ticks": ""
            },
            "type": "mesh3d"
           }
          ],
          "parcoords": [
           {
            "line": {
             "colorbar": {
              "outlinewidth": 0,
              "ticks": ""
             }
            },
            "type": "parcoords"
           }
          ],
          "pie": [
           {
            "automargin": true,
            "type": "pie"
           }
          ],
          "scatter": [
           {
            "fillpattern": {
             "fillmode": "overlay",
             "size": 10,
             "solidity": 0.2
            },
            "type": "scatter"
           }
          ],
          "scatter3d": [
           {
            "line": {
             "colorbar": {
              "outlinewidth": 0,
              "ticks": ""
             }
            },
            "marker": {
             "colorbar": {
              "outlinewidth": 0,
              "ticks": ""
             }
            },
            "type": "scatter3d"
           }
          ],
          "scattercarpet": [
           {
            "marker": {
             "colorbar": {
              "outlinewidth": 0,
              "ticks": ""
             }
            },
            "type": "scattercarpet"
           }
          ],
          "scattergeo": [
           {
            "marker": {
             "colorbar": {
              "outlinewidth": 0,
              "ticks": ""
             }
            },
            "type": "scattergeo"
           }
          ],
          "scattergl": [
           {
            "marker": {
             "colorbar": {
              "outlinewidth": 0,
              "ticks": ""
             }
            },
            "type": "scattergl"
           }
          ],
          "scattermapbox": [
           {
            "marker": {
             "colorbar": {
              "outlinewidth": 0,
              "ticks": ""
             }
            },
            "type": "scattermapbox"
           }
          ],
          "scatterpolar": [
           {
            "marker": {
             "colorbar": {
              "outlinewidth": 0,
              "ticks": ""
             }
            },
            "type": "scatterpolar"
           }
          ],
          "scatterpolargl": [
           {
            "marker": {
             "colorbar": {
              "outlinewidth": 0,
              "ticks": ""
             }
            },
            "type": "scatterpolargl"
           }
          ],
          "scatterternary": [
           {
            "marker": {
             "colorbar": {
              "outlinewidth": 0,
              "ticks": ""
             }
            },
            "type": "scatterternary"
           }
          ],
          "surface": [
           {
            "colorbar": {
             "outlinewidth": 0,
             "ticks": ""
            },
            "colorscale": [
             [
              0,
              "#0d0887"
             ],
             [
              0.1111111111111111,
              "#46039f"
             ],
             [
              0.2222222222222222,
              "#7201a8"
             ],
             [
              0.3333333333333333,
              "#9c179e"
             ],
             [
              0.4444444444444444,
              "#bd3786"
             ],
             [
              0.5555555555555556,
              "#d8576b"
             ],
             [
              0.6666666666666666,
              "#ed7953"
             ],
             [
              0.7777777777777778,
              "#fb9f3a"
             ],
             [
              0.8888888888888888,
              "#fdca26"
             ],
             [
              1,
              "#f0f921"
             ]
            ],
            "type": "surface"
           }
          ],
          "table": [
           {
            "cells": {
             "fill": {
              "color": "#EBF0F8"
             },
             "line": {
              "color": "white"
             }
            },
            "header": {
             "fill": {
              "color": "#C8D4E3"
             },
             "line": {
              "color": "white"
             }
            },
            "type": "table"
           }
          ]
         },
         "layout": {
          "annotationdefaults": {
           "arrowcolor": "#2a3f5f",
           "arrowhead": 0,
           "arrowwidth": 1
          },
          "autotypenumbers": "strict",
          "coloraxis": {
           "colorbar": {
            "outlinewidth": 0,
            "ticks": ""
           }
          },
          "colorscale": {
           "diverging": [
            [
             0,
             "#8e0152"
            ],
            [
             0.1,
             "#c51b7d"
            ],
            [
             0.2,
             "#de77ae"
            ],
            [
             0.3,
             "#f1b6da"
            ],
            [
             0.4,
             "#fde0ef"
            ],
            [
             0.5,
             "#f7f7f7"
            ],
            [
             0.6,
             "#e6f5d0"
            ],
            [
             0.7,
             "#b8e186"
            ],
            [
             0.8,
             "#7fbc41"
            ],
            [
             0.9,
             "#4d9221"
            ],
            [
             1,
             "#276419"
            ]
           ],
           "sequential": [
            [
             0,
             "#0d0887"
            ],
            [
             0.1111111111111111,
             "#46039f"
            ],
            [
             0.2222222222222222,
             "#7201a8"
            ],
            [
             0.3333333333333333,
             "#9c179e"
            ],
            [
             0.4444444444444444,
             "#bd3786"
            ],
            [
             0.5555555555555556,
             "#d8576b"
            ],
            [
             0.6666666666666666,
             "#ed7953"
            ],
            [
             0.7777777777777778,
             "#fb9f3a"
            ],
            [
             0.8888888888888888,
             "#fdca26"
            ],
            [
             1,
             "#f0f921"
            ]
           ],
           "sequentialminus": [
            [
             0,
             "#0d0887"
            ],
            [
             0.1111111111111111,
             "#46039f"
            ],
            [
             0.2222222222222222,
             "#7201a8"
            ],
            [
             0.3333333333333333,
             "#9c179e"
            ],
            [
             0.4444444444444444,
             "#bd3786"
            ],
            [
             0.5555555555555556,
             "#d8576b"
            ],
            [
             0.6666666666666666,
             "#ed7953"
            ],
            [
             0.7777777777777778,
             "#fb9f3a"
            ],
            [
             0.8888888888888888,
             "#fdca26"
            ],
            [
             1,
             "#f0f921"
            ]
           ]
          },
          "colorway": [
           "#636efa",
           "#EF553B",
           "#00cc96",
           "#ab63fa",
           "#FFA15A",
           "#19d3f3",
           "#FF6692",
           "#B6E880",
           "#FF97FF",
           "#FECB52"
          ],
          "font": {
           "color": "#2a3f5f"
          },
          "geo": {
           "bgcolor": "white",
           "lakecolor": "white",
           "landcolor": "#E5ECF6",
           "showlakes": true,
           "showland": true,
           "subunitcolor": "white"
          },
          "hoverlabel": {
           "align": "left"
          },
          "hovermode": "closest",
          "mapbox": {
           "style": "light"
          },
          "paper_bgcolor": "white",
          "plot_bgcolor": "#E5ECF6",
          "polar": {
           "angularaxis": {
            "gridcolor": "white",
            "linecolor": "white",
            "ticks": ""
           },
           "bgcolor": "#E5ECF6",
           "radialaxis": {
            "gridcolor": "white",
            "linecolor": "white",
            "ticks": ""
           }
          },
          "scene": {
           "xaxis": {
            "backgroundcolor": "#E5ECF6",
            "gridcolor": "white",
            "gridwidth": 2,
            "linecolor": "white",
            "showbackground": true,
            "ticks": "",
            "zerolinecolor": "white"
           },
           "yaxis": {
            "backgroundcolor": "#E5ECF6",
            "gridcolor": "white",
            "gridwidth": 2,
            "linecolor": "white",
            "showbackground": true,
            "ticks": "",
            "zerolinecolor": "white"
           },
           "zaxis": {
            "backgroundcolor": "#E5ECF6",
            "gridcolor": "white",
            "gridwidth": 2,
            "linecolor": "white",
            "showbackground": true,
            "ticks": "",
            "zerolinecolor": "white"
           }
          },
          "shapedefaults": {
           "line": {
            "color": "#2a3f5f"
           }
          },
          "ternary": {
           "aaxis": {
            "gridcolor": "white",
            "linecolor": "white",
            "ticks": ""
           },
           "baxis": {
            "gridcolor": "white",
            "linecolor": "white",
            "ticks": ""
           },
           "bgcolor": "#E5ECF6",
           "caxis": {
            "gridcolor": "white",
            "linecolor": "white",
            "ticks": ""
           }
          },
          "title": {
           "x": 0.05
          },
          "xaxis": {
           "automargin": true,
           "gridcolor": "white",
           "linecolor": "white",
           "ticks": "",
           "title": {
            "standoff": 15
           },
           "zerolinecolor": "white",
           "zerolinewidth": 2
          },
          "yaxis": {
           "automargin": true,
           "gridcolor": "white",
           "linecolor": "white",
           "ticks": "",
           "title": {
            "standoff": 15
           },
           "zerolinecolor": "white",
           "zerolinewidth": 2
          }
         }
        },
        "title": {
         "text": "Statistic columns be Outlier"
        },
        "xaxis": {
         "anchor": "y",
         "categoryarray": [
          "tempmax",
          "tempmin",
          "temp",
          "feelslikemax",
          "feelslikemin",
          "feelslike",
          "dew",
          "humidity",
          "precip",
          "precipprob",
          "precipcover",
          "windspeed",
          "cloudcover",
          "visibility",
          "solarradiation",
          "solarenergy",
          "uvindex"
         ],
         "categoryorder": "array",
         "domain": [
          0,
          1
         ],
         "title": {
          "text": "x"
         }
        },
        "yaxis": {
         "anchor": "x",
         "domain": [
          0,
          1
         ],
         "title": {
          "text": "y"
         }
        }
       }
      }
     },
     "metadata": {},
     "output_type": "display_data"
    }
   ],
   "source": [
    "show_ourlies(data[number_var])"
   ]
  },
  {
   "cell_type": "code",
   "execution_count": 18,
   "metadata": {},
   "outputs": [
    {
     "data": {
      "text/plain": [
       "datetimeEpoch     0\n",
       "tempmax           0\n",
       "tempmin           0\n",
       "temp              0\n",
       "feelslikemax      0\n",
       "feelslikemin      0\n",
       "feelslike         0\n",
       "dew               0\n",
       "humidity          0\n",
       "precip            0\n",
       "precipprob        0\n",
       "precipcover       0\n",
       "snow              0\n",
       "snowdepth         0\n",
       "windspeed         0\n",
       "winddir           0\n",
       "cloudcover        0\n",
       "visibility        0\n",
       "solarradiation    0\n",
       "solarenergy       0\n",
       "uvindex           0\n",
       "sunrise           0\n",
       "sunriseEpoch      0\n",
       "sunset            0\n",
       "sunsetEpoch       0\n",
       "moonphase         0\n",
       "conditions        0\n",
       "description       0\n",
       "icon              0\n",
       "stations          0\n",
       "source            0\n",
       "week              0\n",
       "month             0\n",
       "year              0\n",
       "dtype: int64"
      ]
     },
     "execution_count": 18,
     "metadata": {},
     "output_type": "execute_result"
    }
   ],
   "source": [
    "data.isna().sum()"
   ]
  },
  {
   "cell_type": "code",
   "execution_count": 19,
   "metadata": {},
   "outputs": [
    {
     "data": {
      "text/plain": [
       "['tempmax',\n",
       " 'tempmin',\n",
       " 'temp',\n",
       " 'feelslikemax',\n",
       " 'feelslikemin',\n",
       " 'feelslike',\n",
       " 'dew',\n",
       " 'humidity',\n",
       " 'precip',\n",
       " 'precipprob',\n",
       " 'precipcover',\n",
       " 'snow',\n",
       " 'snowdepth',\n",
       " 'windspeed',\n",
       " 'winddir',\n",
       " 'cloudcover',\n",
       " 'visibility',\n",
       " 'solarradiation',\n",
       " 'solarenergy',\n",
       " 'uvindex',\n",
       " 'moonphase']"
      ]
     },
     "execution_count": 19,
     "metadata": {},
     "output_type": "execute_result"
    }
   ],
   "source": [
    "number_var"
   ]
  },
  {
   "cell_type": "code",
   "execution_count": 20,
   "metadata": {},
   "outputs": [
    {
     "data": {
      "image/png": "[encoded data removed]",
      "text/plain": [
       "<Figure size 1000x800 with 2 Axes>"
      ]
     },
     "metadata": {},
     "output_type": "display_data"
    }
   ],
   "source": [
    "corr_matrix = data[number_var].corr()\n",
    "\n",
    "plt.figure(figsize=(10, 8))\n",
    "sns.heatmap(corr_matrix, annot=True, cmap='coolwarm')\n",
    "plt.title('Ma trận tương quan')\n",
    "plt.show()"
   ]
  },
  {
   "attachments": {},
   "cell_type": "markdown",
   "metadata": {},
   "source": [
    "## Split data\n"
   ]
  },
  {
   "attachments": {},
   "cell_type": "markdown",
   "metadata": {},
   "source": [
    "Dựa vào danh sách các trường được đưa ra, có vẻ như đây là một danh sách các thuộc tính hoặc cột trong dữ liệu thời tiết. Dưới đây là giải thích cho mỗi trường:\n",
    "\n",
    "- datetimeEpoch: Thời gian đo đạc dưới dạng số epoch, tức là số giây tính từ ngày 1/1/1970.\n",
    "- tempmax: Nhiệt độ tối đa trong ngày (đơn vị đo thường là độ Celsius hoặc Fahrenheit).\n",
    "- tempmin: Nhiệt độ tối thiểu trong ngày (đơn vị đo thường là độ Celsius hoặc Fahrenheit).\n",
    "- temp: Nhiệt độ hiện tại (đơn vị đo thường là độ Celsius hoặc Fahrenheit).\n",
    "- feelslikemax: Nhiệt độ cảm nhận tối đa trong ngày, tức là cảm giác nhiệt độ do tác động của yếu tố như gió (đơn vị đo thường là độ - - -\n",
    "-  Celsius hoặc Fahrenheit).\n",
    "- feelslikemin: Nhiệt độ cảm nhận tối thiểu trong ngày (đơn vị đo thường là độ Celsius hoặc Fahrenheit).\n",
    "- feelslike: Nhiệt độ cảm nhận hiện tại (đơn vị đo thường là độ Celsius hoặc Fahrenheit).\n",
    "- dew: Độ ẩm sương (đơn vị đo thường là độ Celsius hoặc Fahrenheit).\n",
    "- humidity: Độ ẩm (phần trăm).\n",
    "- precip: Lượng mưa dự kiến (đơn vị đo thường là mm hoặc inch).\n",
    "- precipprob: Xác suất mưa (phần trăm).\n",
    "- precipcover: Tỷ lệ bề mặt được che phủ bởi mưa (phần trăm).\n",
    "- snow: Lượng tuyết dự kiến (đơn vị đo thường là mm hoặc inch).\n",
    "- snowdepth: Độ dày tuyết hiện tại (đơn vị đo thường là mm hoặc inch).\n",
    "- windspeed: Tốc độ gió (đơn vị đo thường là km/h hoặc mph).\n",
    "- winddir: Hướng gió (theo độ).\n",
    "- cloudcover: Tỷ lệ bề mặt được che phủ bởi mây (phần trăm).\n",
    "- visibility: Tầm nhìn (đơn vị đo thường là km hoặc mile).\n",
    "- solarradiation: Bức xạ mặt trời (đơn vị đo thường là watts/m²).\n",
    "- solarenergy: Năng lượng mặt trời (đơn vị đo thường là joules hoặc kilocalories).\n",
    "- uvindex: Chỉ số UV (mức độ tử ngoại).\n",
    "- uvindex: Chỉ số UV (mức độ tử ngoại). Chỉ số này thường được sử dụng để đo mức độ mạnh của tia tử ngoại mặt trời. Giá trị của chỉ số UV thường nằm trong một phạm vi từ 0 đến 11+ hoặc có thể được chia thành các mức độ như thấp, trung bình, cao và rất cao. Mức độ UV cao có thể gây tổn hại cho da và mắt, vì vậy việc kiểm tra chỉ số UV có thể giúp người dùng đưa ra quyết định về việc bảo vệ khỏi tác động của tia tử ngoại.\n",
    "\n",
    "- sunrise: Thời gian mặt trời mọc trong ngày.\n",
    "\n",
    "- sunriseEpoch: Thời gian mặt trời mọc trong ngày dưới dạng số epoch.\n",
    "\n",
    "- sunset: Thời gian mặt trời lặn trong ngày.\n",
    "\n",
    "- sunsetEpoch: Thời gian mặt trời lặn trong ngày dưới dạng số epoch.\n",
    "\n",
    "- moonphase: Pha của mặt trăng (thường được biểu thị bằng từ \"New\", \"First Quarter\", \"Full\" và \"Last Quarter\" hoặc dưới dạng phần trăm).\n",
    "\n",
    "- conditions: Điều kiện thời tiết tổng quát, chẳng hạn như \"trời nhiều mây\" hoặc \"trời nắng\".\n",
    "\n",
    "- description: Mô tả chi tiết về điều kiện thời tiết.\n",
    "\n",
    "- icon: Biểu tượng đại diện cho điều kiện thời tiết, thường được sử dụng để hiển thị trên các biểu đồ hoặc giao diện người dùng.\n",
    "\n",
    "- stations: Các trạm quan trắc thời tiết gần địa điểm cụ thể.\n",
    "\n",
    "- source: Nguồn dữ liệu thời tiết, chẳng hạn như Weather.com, AccuWeather.com, hay The Weather Channel.\n",
    "\n",
    "- week: Tuần trong năm.\n",
    "\n",
    "- month: Tháng trong năm.\n",
    "\n",
    "- year: Năm."
   ]
  },
  {
   "cell_type": "code",
   "execution_count": 21,
   "metadata": {},
   "outputs": [
    {
     "data": {
      "text/plain": [
       "Index(['datetimeEpoch', 'tempmax', 'tempmin', 'temp', 'feelslikemax',\n",
       "       'feelslikemin', 'feelslike', 'dew', 'humidity', 'precip', 'precipprob',\n",
       "       'precipcover', 'snow', 'snowdepth', 'windspeed', 'winddir',\n",
       "       'cloudcover', 'visibility', 'solarradiation', 'solarenergy', 'uvindex',\n",
       "       'sunrise', 'sunriseEpoch', 'sunset', 'sunsetEpoch', 'moonphase',\n",
       "       'conditions', 'description', 'icon', 'stations', 'source', 'week',\n",
       "       'month', 'year'],\n",
       "      dtype='object')"
      ]
     },
     "execution_count": 21,
     "metadata": {},
     "output_type": "execute_result"
    }
   ],
   "source": [
    "data.columns"
   ]
  },
  {
   "cell_type": "code",
   "execution_count": 22,
   "metadata": {},
   "outputs": [],
   "source": [
    "feature = ['tempmax', 'tempmin', 'temp', 'feelslikemax',\n",
    "       'feelslikemin', 'feelslike', 'dew', 'humidity',\n",
    "       'snowdepth', 'windspeed', 'winddir',\n",
    "       'cloudcover', 'visibility', 'solarradiation', 'solarenergy', 'uvindex',\n",
    "        'moonphase',\n",
    "         'week',\n",
    "       'month', ]"
   ]
  },
  {
   "cell_type": "code",
   "execution_count": null,
   "metadata": {},
   "outputs": [],
   "source": []
  },
  {
   "cell_type": "code",
   "execution_count": 23,
   "metadata": {},
   "outputs": [],
   "source": [
    "X = data[feature]\n",
    "y = data['precip']"
   ]
  },
  {
   "cell_type": "code",
   "execution_count": 24,
   "metadata": {},
   "outputs": [],
   "source": [
    "from sklearn.model_selection import train_test_split\n",
    "from sklearn.metrics import accuracy_score\n",
    "\n",
    "X_train, X_test, y_train, y_test = train_test_split(X, y, test_size = 0.2, random_state = 0)"
   ]
  },
  {
   "attachments": {},
   "cell_type": "markdown",
   "metadata": {},
   "source": [
    "## Model"
   ]
  },
  {
   "cell_type": "code",
   "execution_count": 25,
   "metadata": {},
   "outputs": [],
   "source": [
    "from sklearn.metrics import confusion_matrix, roc_curve, auc\n",
    "\n",
    "from sklearn.metrics import accuracy_score, precision_score, recall_score, f1_score, classification_report, ConfusionMatrixDisplay, confusion_matrix, roc_curve, auc\n",
    "\n",
    "def evaluate(y_true, y_pred):\n",
    "    accuracy = accuracy_score(y_true, y_pred)\n",
    "    precision = precision_score(y_true, y_pred, average='weighted')\n",
    "    recall = recall_score(y_true, y_pred, average='weighted')\n",
    "    f1 = f1_score(y_true, y_pred, average='weighted')\n",
    "    fpr, tpr, thresholds = roc_curve(y_true, y_pred, pos_label=2)\n",
    "    auc_score = auc(fpr, tpr)\n",
    "    print(f'Accuracy: {accuracy:.2f}')\n",
    "    print(f'Precision: {precision:.2f}')\n",
    "    print(f'Recall: {recall:.2f}')\n",
    "    print(f'F1 score: {f1:.2f}')\n",
    "    print(f'AUC score : {f1:.2f}')\n",
    "    cm = confusion_matrix(y_true, y_pred)\n",
    "    cr = classification_report(y_true, y_pred)\n",
    "    disp = ConfusionMatrixDisplay(confusion_matrix=cm,display_labels=['Không mưa','Có mưa'])\n",
    "    disp.plot()\n",
    "    plt.show()"
   ]
  },
  {
   "attachments": {},
   "cell_type": "markdown",
   "metadata": {},
   "source": [
    "> ### Logistic Regression"
   ]
  },
  {
   "cell_type": "code",
   "execution_count": 26,
   "metadata": {},
   "outputs": [
    {
     "data": {
      "text/html": [
       "<style>#sk-container-id-1 {color: black;background-color: white;}#sk-container-id-1 pre{padding: 0;}#sk-container-id-1 div.sk-toggleable {background-color: white;}#sk-container-id-1 label.sk-toggleable__label {cursor: pointer;display: block;width: 100%;margin-bottom: 0;padding: 0.3em;box-sizing: border-box;text-align: center;}#sk-container-id-1 label.sk-toggleable__label-arrow:before {content: \"▸\";float: left;margin-right: 0.25em;color: #696969;}#sk-container-id-1 label.sk-toggleable__label-arrow:hover:before {color: black;}#sk-container-id-1 div.sk-estimator:hover label.sk-toggleable__label-arrow:before {color: black;}#sk-container-id-1 div.sk-toggleable__content {max-height: 0;max-width: 0;overflow: hidden;text-align: left;background-color: #f0f8ff;}#sk-container-id-1 div.sk-toggleable__content pre {margin: 0.2em;color: black;border-radius: 0.25em;background-color: #f0f8ff;}#sk-container-id-1 input.sk-toggleable__control:checked~div.sk-toggleable__content {max-height: 200px;max-width: 100%;overflow: auto;}#sk-container-id-1 input.sk-toggleable__control:checked~label.sk-toggleable__label-arrow:before {content: \"▾\";}#sk-container-id-1 div.sk-estimator input.sk-toggleable__control:checked~label.sk-toggleable__label {background-color: #d4ebff;}#sk-container-id-1 div.sk-label input.sk-toggleable__control:checked~label.sk-toggleable__label {background-color: #d4ebff;}#sk-container-id-1 input.sk-hidden--visually {border: 0;clip: rect(1px 1px 1px 1px);clip: rect(1px, 1px, 1px, 1px);height: 1px;margin: -1px;overflow: hidden;padding: 0;position: absolute;width: 1px;}#sk-container-id-1 div.sk-estimator {font-family: monospace;background-color: #f0f8ff;border: 1px dotted black;border-radius: 0.25em;box-sizing: border-box;margin-bottom: 0.5em;}#sk-container-id-1 div.sk-estimator:hover {background-color: #d4ebff;}#sk-container-id-1 div.sk-parallel-item::after {content: \"\";width: 100%;border-bottom: 1px solid gray;flex-grow: 1;}#sk-container-id-1 div.sk-label:hover label.sk-toggleable__label {background-color: #d4ebff;}#sk-container-id-1 div.sk-serial::before {content: \"\";position: absolute;border-left: 1px solid gray;box-sizing: border-box;top: 0;bottom: 0;left: 50%;z-index: 0;}#sk-container-id-1 div.sk-serial {display: flex;flex-direction: column;align-items: center;background-color: white;padding-right: 0.2em;padding-left: 0.2em;position: relative;}#sk-container-id-1 div.sk-item {position: relative;z-index: 1;}#sk-container-id-1 div.sk-parallel {display: flex;align-items: stretch;justify-content: center;background-color: white;position: relative;}#sk-container-id-1 div.sk-item::before, #sk-container-id-1 div.sk-parallel-item::before {content: \"\";position: absolute;border-left: 1px solid gray;box-sizing: border-box;top: 0;bottom: 0;left: 50%;z-index: -1;}#sk-container-id-1 div.sk-parallel-item {display: flex;flex-direction: column;z-index: 1;position: relative;background-color: white;}#sk-container-id-1 div.sk-parallel-item:first-child::after {align-self: flex-end;width: 50%;}#sk-container-id-1 div.sk-parallel-item:last-child::after {align-self: flex-start;width: 50%;}#sk-container-id-1 div.sk-parallel-item:only-child::after {width: 0;}#sk-container-id-1 div.sk-dashed-wrapped {border: 1px dashed gray;margin: 0 0.4em 0.5em 0.4em;box-sizing: border-box;padding-bottom: 0.4em;background-color: white;}#sk-container-id-1 div.sk-label label {font-family: monospace;font-weight: bold;display: inline-block;line-height: 1.2em;}#sk-container-id-1 div.sk-label-container {text-align: center;}#sk-container-id-1 div.sk-container {/* jupyter's `normalize.less` sets `[hidden] { display: none; }` but bootstrap.min.css set `[hidden] { display: none !important; }` so we also need the `!important` here to be able to override the default hidden behavior on the sphinx rendered scikit-learn.org. See: https://github.com/scikit-learn/scikit-learn/issues/21755 */display: inline-block !important;position: relative;}#sk-container-id-1 div.sk-text-repr-fallback {display: none;}</style><div id=\"sk-container-id-1\" class=\"sk-top-container\"><div class=\"sk-text-repr-fallback\"><pre>LogisticRegression(C=1, random_state=0, solver=&#x27;liblinear&#x27;)</pre><b>In a Jupyter environment, please rerun this cell to show the HTML representation or trust the notebook. <br />On GitHub, the HTML representation is unable to render, please try loading this page with nbviewer.org.</b></div><div class=\"sk-container\" hidden><div class=\"sk-item\"><div class=\"sk-estimator sk-toggleable\"><input class=\"sk-toggleable__control sk-hidden--visually\" id=\"sk-estimator-id-1\" type=\"checkbox\" checked><label for=\"sk-estimator-id-1\" class=\"sk-toggleable__label sk-toggleable__label-arrow\">LogisticRegression</label><div class=\"sk-toggleable__content\"><pre>LogisticRegression(C=1, random_state=0, solver=&#x27;liblinear&#x27;)</pre></div></div></div></div></div>"
      ],
      "text/plain": [
       "LogisticRegression(C=1, random_state=0, solver='liblinear')"
      ]
     },
     "execution_count": 26,
     "metadata": {},
     "output_type": "execute_result"
    }
   ],
   "source": [
    "from sklearn.linear_model import  LogisticRegression\n",
    "logreg = LogisticRegression(C=1, solver='liblinear', random_state=0)\n",
    "logreg.fit(X_train, y_train)"
   ]
  },
  {
   "cell_type": "code",
   "execution_count": 27,
   "metadata": {},
   "outputs": [],
   "source": [
    "y_pred = logreg.predict(X_test)"
   ]
  },
  {
   "cell_type": "code",
   "execution_count": 28,
   "metadata": {},
   "outputs": [
    {
     "name": "stdout",
     "output_type": "stream",
     "text": [
      "Accuracy: 0.89\n",
      "Precision: 0.89\n",
      "Recall: 0.89\n",
      "F1 score: 0.89\n",
      "AUC score : 0.89\n"
     ]
    },
    {
     "name": "stderr",
     "output_type": "stream",
     "text": [
      "c:\\Users\\nguye\\AppData\\Local\\Programs\\Python\\Python310\\lib\\site-packages\\sklearn\\metrics\\_ranking.py:1015: UndefinedMetricWarning:\n",
      "\n",
      "No positive samples in y_true, true positive value should be meaningless\n",
      "\n"
     ]
    },
    {
     "data": {
      "image/png": "[encoded data removed]",
      "text/plain": [
       "<Figure size 640x480 with 2 Axes>"
      ]
     },
     "metadata": {},
     "output_type": "display_data"
    }
   ],
   "source": [
    "evaluate(y_test, y_pred)"
   ]
  },
  {
   "attachments": {},
   "cell_type": "markdown",
   "metadata": {},
   "source": [
    "> ### SVM"
   ]
  },
  {
   "cell_type": "code",
   "execution_count": 29,
   "metadata": {},
   "outputs": [],
   "source": [
    "from sklearn.svm import SVC\n",
    "from sklearn.model_selection import train_test_split\n",
    "from sklearn.metrics import accuracy_score\n",
    "model_svm = SVC()\n",
    "\n",
    "model_svm.fit(X_train, y_train)\n",
    "\n",
    "y_pred = model_svm.predict(X_test)"
   ]
  },
  {
   "cell_type": "code",
   "execution_count": 30,
   "metadata": {},
   "outputs": [
    {
     "name": "stdout",
     "output_type": "stream",
     "text": [
      "Accuracy: 0.85\n",
      "Precision: 0.85\n",
      "Recall: 0.85\n",
      "F1 score: 0.84\n",
      "AUC score : 0.84\n"
     ]
    },
    {
     "name": "stderr",
     "output_type": "stream",
     "text": [
      "c:\\Users\\nguye\\AppData\\Local\\Programs\\Python\\Python310\\lib\\site-packages\\sklearn\\metrics\\_ranking.py:1015: UndefinedMetricWarning:\n",
      "\n",
      "No positive samples in y_true, true positive value should be meaningless\n",
      "\n"
     ]
    },
    {
     "data": {
      "image/png": "[encoded data removed]",
      "text/plain": [
       "<Figure size 640x480 with 2 Axes>"
      ]
     },
     "metadata": {},
     "output_type": "display_data"
    }
   ],
   "source": [
    "evaluate(y_test, y_pred)"
   ]
  },
  {
   "attachments": {},
   "cell_type": "markdown",
   "metadata": {},
   "source": [
    "> ### RandomForest Classifier"
   ]
  },
  {
   "cell_type": "code",
   "execution_count": 31,
   "metadata": {},
   "outputs": [],
   "source": [
    "import numpy as np\n",
    "import matplotlib.pyplot as plt\n",
    "from sklearn.ensemble import RandomForestClassifier\n",
    "from sklearn import datasets\n",
    "\n",
    "randomForest = RandomForestClassifier(n_estimators=100)\n",
    "\n",
    "randomForest.fit(X_train, y_train)\n",
    "\n",
    "y_pred = randomForest.predict(X_test)"
   ]
  },
  {
   "cell_type": "code",
   "execution_count": 32,
   "metadata": {},
   "outputs": [
    {
     "name": "stdout",
     "output_type": "stream",
     "text": [
      "Accuracy: 0.87\n",
      "Precision: 0.87\n",
      "Recall: 0.87\n",
      "F1 score: 0.87\n",
      "AUC score : 0.87\n"
     ]
    },
    {
     "name": "stderr",
     "output_type": "stream",
     "text": [
      "c:\\Users\\nguye\\AppData\\Local\\Programs\\Python\\Python310\\lib\\site-packages\\sklearn\\metrics\\_ranking.py:1015: UndefinedMetricWarning:\n",
      "\n",
      "No positive samples in y_true, true positive value should be meaningless\n",
      "\n"
     ]
    },
    {
     "data": {
      "image/png": "[encoded data removed]",
      "text/plain": [
       "<Figure size 640x480 with 2 Axes>"
      ]
     },
     "metadata": {},
     "output_type": "display_data"
    }
   ],
   "source": [
    "evaluate(y_test, y_pred)"
   ]
  }
 ],
 "metadata": {
  "kernelspec": {
   "display_name": "Python 3",
   "language": "python",
   "name": "python3"
  },
  "language_info": {
   "codemirror_mode": {
    "name": "ipython",
    "version": 3
   },
   "file_extension": ".py",
   "mimetype": "text/x-python",
   "name": "python",
   "nbconvert_exporter": "python",
   "pygments_lexer": "ipython3",
   "version": "3.10.4"
  },
  "orig_nbformat": 4
 },
 "nbformat": 4,
 "nbformat_minor": 2
}
