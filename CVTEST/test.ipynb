{
 "cells": [
  {
   "cell_type": "code",
   "execution_count": 1,
   "metadata": {},
   "outputs": [
    {
     "data": {
      "text/plain": [
       "True"
      ]
     },
     "execution_count": 1,
     "metadata": {},
     "output_type": "execute_result"
    }
   ],
   "source": [
    "import cv2\n",
    "import numpy as np\n",
    "\n",
    "# Đọc ảnh nguyên bản\n",
    "image = cv2.imread(\"E:/Lam_thue/CVTEST/Monney/detectStainOnNormalBanknote/img.jpg\")\n",
    "\n",
    "# Chuyển đổi kiểu dữ liệu của ảnh thành kiểu float\n",
    "image_float = image.astype(np.float32)\n",
    "\n",
    "# Giảm độ sáng của ảnh bằng cách trừ giá trị cho từng pixel\n",
    "darker_image_float = cv2.subtract(image_float, 70)\n",
    "\n",
    "# Chuyển đổi kiểu dữ liệu của ảnh trở lại thành kiểu unsigned integer 8-bit\n",
    "darker_image = np.clip(darker_image_float, 0, 255).astype(np.uint8)\n",
    "cv2.imwrite('E:/Lam_thue/CVTEST/Monney/detectStainOnBanknoteHasDifferentBrightness/img_fake.jpg', darker_image)\n",
    "\n",
    "# Hiển thị ảnh gốc và ảnh đã giảm độ sáng\n",
    "# cv2.imshow(\"Original Image\", image)\n",
    "# cv2.imshow(\"Darker Image\", darker_image)\n",
    "# cv2.waitKey(0)\n",
    "# cv2.destroyAllWindows()\n"
   ]
  },
  {
   "cell_type": "code",
   "execution_count": 2,
   "metadata": {},
   "outputs": [
    {
     "data": {
      "text/plain": [
       "True"
      ]
     },
     "execution_count": 2,
     "metadata": {},
     "output_type": "execute_result"
    }
   ],
   "source": [
    "import cv2\n",
    "\n",
    "\n",
    "\n",
    "def rotate_image(image, angle):\n",
    "    height, width = image.shape[:2]\n",
    "    center = (width / 2, height / 2)\n",
    "\n",
    "    # Tạo ma trận biến đổi affine để xoay ảnh\n",
    "    rotation_matrix = cv2.getRotationMatrix2D(center, angle, 1.0)\n",
    "\n",
    "    # Tính toán kích thước mới của ảnh sau khi xoay\n",
    "    abs_cos_angle = abs(rotation_matrix[0, 0])\n",
    "    abs_sin_angle = abs(rotation_matrix[0, 1])\n",
    "    new_width = int(height * abs_sin_angle + width * abs_cos_angle)\n",
    "    new_height = int(height * abs_cos_angle + width * abs_sin_angle)\n",
    "\n",
    "    # Cập nhật ma trận biến đổi affine để dịch chuyển ảnh về giữa\n",
    "    rotation_matrix[0, 2] += (new_width - width) / 2\n",
    "    rotation_matrix[1, 2] += (new_height - height) / 2\n",
    "\n",
    "    # Thực hiện phép biến đổi affine để xoay ảnh\n",
    "    rotated_image = cv2.warpAffine(image, rotation_matrix, (new_width, new_height))\n",
    "\n",
    "    return rotated_image\n",
    "\n",
    "# Đọc ảnh từ file\n",
    "\n",
    "# Xoay ảnh 30 độ theo chiều kim đồng hồ\n",
    "angle = 30\n",
    "rotated_image = rotate_image(image, angle)\n",
    "\n",
    "# Tạo ảnh nền màu trắng có kích thước bằng với ảnh đã xoay\n",
    "white_background = np.ones_like(rotated_image) * 255\n",
    "\n",
    "# Đặt ảnh đã xoay lên ảnh nền màu trắng bằng cách sử dụng toán tử bitwise AND\n",
    "result = cv2.bitwise_and(rotated_image, white_background)\n",
    "\n",
    "# Đọc ảnh từ file\n",
    "# image = cv2.imread(\"path/to/image.jpg\")\n",
    "\n",
    "cv2.imshow(\"Original Image\", image)\n",
    "cv2.imshow(\"Rotated Image with White Background\", result)\n",
    "cv2.waitKey(0)\n",
    "cv2.destroyAllWindows()\n",
    "# Hiển thị ảnh gốc và ảnh đã xoay\n",
    "cv2.imwrite('E:\\Lam_thue\\CVTEST\\Monney\\detectStainOnBanknoteHasBeenRotated\\img_fake.jpg', result)\n"
   ]
  },
  {
   "cell_type": "code",
   "execution_count": 11,
   "metadata": {},
   "outputs": [
    {
     "data": {
      "text/plain": [
       "True"
      ]
     },
     "execution_count": 11,
     "metadata": {},
     "output_type": "execute_result"
    }
   ],
   "source": [
    "cv2.imwrite('E:\\Lam_thue\\CVTEST\\Monney\\detectStainOnBanknoteHasDifferentSize\\img.jpg', image)\n"
   ]
  },
  {
   "cell_type": "code",
   "execution_count": 14,
   "metadata": {},
   "outputs": [],
   "source": [
    "w, h = image.shape[:2]"
   ]
  },
  {
   "cell_type": "code",
   "execution_count": 15,
   "metadata": {},
   "outputs": [
    {
     "ename": "error",
     "evalue": "OpenCV(4.7.0) D:\\a\\opencv-python\\opencv-python\\opencv\\modules\\imgcodecs\\src\\loadsave.cpp:783: error: (-215:Assertion failed) !_img.empty() in function 'cv::imwrite'\n",
     "output_type": "error",
     "traceback": [
      "\u001b[1;31m---------------------------------------------------------------------------\u001b[0m",
      "\u001b[1;31merror\u001b[0m                                     Traceback (most recent call last)",
      "Cell \u001b[1;32mIn[15], line 1\u001b[0m\n\u001b[1;32m----> 1\u001b[0m cv2\u001b[39m.\u001b[39;49mimwrite(\u001b[39m'\u001b[39;49m\u001b[39mE:\u001b[39;49m\u001b[39m\\\u001b[39;49m\u001b[39mLam_thue\u001b[39;49m\u001b[39m\\\u001b[39;49m\u001b[39mCVTEST\u001b[39;49m\u001b[39m\\\u001b[39;49m\u001b[39mMonney\u001b[39;49m\u001b[39m\\\u001b[39;49m\u001b[39mdetectStainOnBanknoteHasDifferentSize\u001b[39;49m\u001b[39m\\\u001b[39;49m\u001b[39mimg_fake.jpg\u001b[39;49m\u001b[39m'\u001b[39;49m, image\u001b[39m.\u001b[39;49mresize(w\u001b[39m+\u001b[39;49m\u001b[39m50\u001b[39;49m, h\u001b[39m+\u001b[39;49m\u001b[39m50\u001b[39;49m))\n",
      "\u001b[1;31merror\u001b[0m: OpenCV(4.7.0) D:\\a\\opencv-python\\opencv-python\\opencv\\modules\\imgcodecs\\src\\loadsave.cpp:783: error: (-215:Assertion failed) !_img.empty() in function 'cv::imwrite'\n"
     ]
    }
   ],
   "source": [
    "cv2.imwrite('E:\\Lam_thue\\CVTEST\\Monney\\detectStainOnBanknoteHasDifferentSize\\img_fake.jpg', image.resize(w+50, h+50))\n"
   ]
  },
  {
   "cell_type": "code",
   "execution_count": 22,
   "metadata": {},
   "outputs": [],
   "source": []
  },
  {
   "cell_type": "code",
   "execution_count": 25,
   "metadata": {},
   "outputs": [
    {
     "data": {
      "text/plain": [
       "(260, 530, 3)"
      ]
     },
     "execution_count": 25,
     "metadata": {},
     "output_type": "execute_result"
    }
   ],
   "source": [
    "image.shape"
   ]
  },
  {
   "cell_type": "code",
   "execution_count": 3,
   "metadata": {},
   "outputs": [
    {
     "data": {
      "text/plain": [
       "True"
      ]
     },
     "execution_count": 3,
     "metadata": {},
     "output_type": "execute_result"
    }
   ],
   "source": [
    "image = cv2.imread(r'E:\\Lam_thue\\CVTEST\\Monney\\detectStainOnBanknoteHasDifferentSize\\img.jpg')\n",
    "new_width = image.shape[1] + 110\n",
    "new_height = image.shape[0] + 100\n",
    "resized_image = cv2.resize(image, (new_width, new_height))\n",
    "\n",
    "# Ghi ảnh vào file\n",
    "output_path = \"E:/Lam_thue/CVTEST/Monney/detectStainOnBanknoteHasDifferentSize/img_fake.jpg\"\n",
    "cv2.imwrite(output_path, resized_image)"
   ]
  },
  {
   "cell_type": "code",
   "execution_count": null,
   "metadata": {},
   "outputs": [],
   "source": []
  }
 ],
 "metadata": {
  "kernelspec": {
   "display_name": "Python 3",
   "language": "python",
   "name": "python3"
  },
  "language_info": {
   "codemirror_mode": {
    "name": "ipython",
    "version": 3
   },
   "file_extension": ".py",
   "mimetype": "text/x-python",
   "name": "python",
   "nbconvert_exporter": "python",
   "pygments_lexer": "ipython3",
   "version": "3.10.4"
  },
  "orig_nbformat": 4
 },
 "nbformat": 4,
 "nbformat_minor": 2
}
