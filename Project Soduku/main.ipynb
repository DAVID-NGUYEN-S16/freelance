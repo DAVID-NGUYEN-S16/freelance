{
 "cells": [
  {
   "cell_type": "code",
   "execution_count": 9,
   "metadata": {},
   "outputs": [],
   "source": [
    "\n",
    "# import include nesscessary\n",
    "import cv2\n",
    "from PIL import Image, ImageOps\n",
    "import argparse\n",
    "import cv2\n",
    "import os\n",
    "import glob\n",
    "import matplotlib.pyplot as plt\n",
    "import multiprocessing as mp\n",
    "from joblib import Parallel, delayed\n",
    "import numpy\n",
    "import cv2\n",
    "import numpy as np\n",
    "import imutils\n"
   ]
  },
  {
   "cell_type": "code",
   "execution_count": 10,
   "metadata": {},
   "outputs": [
    {
     "data": {
      "text/plain": [
       "True"
      ]
     },
     "execution_count": 10,
     "metadata": {},
     "output_type": "execute_result"
    }
   ],
   "source": [
    "img = cv2.imread(\"sudoku2.jpg\")\n",
    "gray = cv2.cvtColor(img, cv2.COLOR_BGR2GRAY)\n",
    "blurred = cv2.GaussianBlur(gray, (7, 7), 0)\n",
    "\n",
    "adap_thresh = cv2.adaptiveThreshold(\n",
    "    blurred, 255, cv2.ADAPTIVE_THRESH_GAUSSIAN_C, cv2.THRESH_BINARY, 11, 3)\n",
    "cv2.imwrite(\"output.jpg\", adap_thresh)\n"
   ]
  },
  {
   "cell_type": "code",
   "execution_count": 11,
   "metadata": {},
   "outputs": [],
   "source": [
    "def find_board(img):\n",
    "    # gray = cv2.cvtColor(img, cv2.COLOR_BGR2GRAY)\n",
    "    gray = cv2.imread('output.jpg')\n",
    "    # Loại bỏ nhiễu\n",
    "    bfilter = cv2.bilateralFilter(gray, 13, 20, 20)\n",
    "    # Phát hiện các cạnh của hình ảnh   \n",
    "    edged = cv2.Canny(bfilter, 30, 180)\n",
    "    # Tìm các điểm liên tục của các cạnh \n",
    "    keypoints = cv2.findContours(edged.copy(), cv2.RETR_TREE,\n",
    "    cv2.CHAIN_APPROX_SIMPLE)\n",
    "    contours = imutils.grab_contours(keypoints)\n",
    "    newimg = cv2.drawContours(img.copy(), contours, -1, (0, 255, 0), 3)\n",
    "    contours = sorted(contours, key=cv2.contourArea, reverse=True)[:15]\n",
    "    location = None\n",
    "    # result = None\n",
    "    # Finds rectangular contour\n",
    "    for contour in contours:\n",
    "        approx = cv2.approxPolyDP(contour, 15, True)\n",
    "        if len(approx) == 4:\n",
    "            location = approx\n",
    "            break\n",
    "    cv2.imshow(\"Board\", img)\n",
    "    cv2.waitKey(0)\n",
    "    result = get_perspective(img, location)\n",
    "    return result, location"
   ]
  },
  {
   "cell_type": "code",
   "execution_count": 12,
   "metadata": {},
   "outputs": [],
   "source": [
    "def get_perspective(img, location, height = 900, width = 900):\n",
    "\n",
    "    pts1 = np.float32([location[0], location[3], location[1], location[2]])\n",
    "    pts2 = np.float32([[0, 0], [width, 0], [0, height], [width, height]])\n",
    "    matrix = cv2.getPerspectiveTransform(pts1, pts2)\n",
    "    result = cv2.warpPerspective(img, matrix, (width, height))\n",
    "    return result\n"
   ]
  },
  {
   "cell_type": "code",
   "execution_count": 13,
   "metadata": {},
   "outputs": [
    {
     "data": {
      "text/plain": [
       "-1"
      ]
     },
     "execution_count": 13,
     "metadata": {},
     "output_type": "execute_result"
    }
   ],
   "source": [
    "board, location = find_board(img)\n",
    "# board = cv2.rotate(board, cv2.ROTATE_90_CLOCKWISE)\n",
    "cv2.imshow(\"Board\", board)\n",
    "cv2.waitKey(0)\n",
    "# print(board)"
   ]
  },
  {
   "cell_type": "code",
   "execution_count": 14,
   "metadata": {},
   "outputs": [],
   "source": [
    "# split the board into 81 individual images\n",
    "def split_boxes(board):\n",
    "    rows = np.vsplit(board,9)\n",
    "    boxes = []\n",
    "    id = 0\n",
    "    for r in rows:\n",
    "        cols = np.hsplit(r,9)\n",
    "        for box in cols:\n",
    "            box = cv2.resize(box, (input_size, input_size))/255.0\n",
    "            # cv2.imshow(\"Splitted block\", box)\n",
    "            # cv2.imwrite(f\"{id}.jpg\", box*255)\n",
    "            id+=1\n",
    "    \n",
    "            # c\n",
    "            boxes.append(box*255)\n",
    "    cv2.destroyAllWindows()\n",
    "    return boxes\n",
    "\n",
    "def displayNumbers(img, numbers, color=(0, 255, 0)):\n",
    "    W = int(img.shape[1]/9)\n",
    "    H = int(img.shape[0]/9)\n",
    "    for i in range (9):\n",
    "        for j in range (9):\n",
    "            if numbers[(j*9)+i] !=0:\n",
    "                cv2.putText(img, str(numbers[(j*9)+i]), (i*W+int(W/2)-int((W/4)), int((j+0.7)*H)), cv2.FONT_HERSHEY_COMPLEX, 2, color, 2, cv2.LINE_AA)\n",
    "    return img"
   ]
  },
  {
   "cell_type": "code",
   "execution_count": 15,
   "metadata": {},
   "outputs": [],
   "source": [
    "input_size = 48\n",
    "gray = cv2.cvtColor(board, cv2.COLOR_BGR2GRAY)\n",
    "# print(gray.shape)\n",
    "rois = split_boxes(gray)"
   ]
  },
  {
   "cell_type": "code",
   "execution_count": 18,
   "metadata": {},
   "outputs": [
    {
     "name": "stdout",
     "output_type": "stream",
     "text": [
      "0.jpg = 28815\n",
      "1.jpg = 21675\n",
      "2.jpg = 0\n",
      "3.jpg = 0\n",
      "4.jpg = 37995\n",
      "5.jpg = 0\n",
      "6.jpg = 42585\n",
      "7.jpg = 0\n",
      "8.jpg = 0\n",
      "9.jpg = 0\n",
      "10.jpg = 0\n",
      "11.jpg = 0\n",
      "12.jpg = 0\n",
      "13.jpg = 0\n",
      "14.jpg = 40035\n",
      "15.jpg = 24990\n",
      "16.jpg = 0\n",
      "17.jpg = 0\n",
      "18.jpg = 40545\n",
      "19.jpg = 0\n",
      "20.jpg = 44115\n",
      "21.jpg = 35700\n",
      "22.jpg = 23460\n",
      "23.jpg = 0\n",
      "24.jpg = 0\n",
      "25.jpg = 36465\n",
      "26.jpg = 39270\n",
      "27.jpg = 0\n",
      "28.jpg = 0\n",
      "29.jpg = 21420\n",
      "30.jpg = 0\n",
      "31.jpg = 0\n",
      "32.jpg = 35955\n",
      "33.jpg = 0\n",
      "34.jpg = 41055\n",
      "35.jpg = 0\n",
      "36.jpg = 42075\n",
      "37.jpg = 0\n",
      "38.jpg = 42840\n",
      "39.jpg = 0\n",
      "40.jpg = 33660\n",
      "41.jpg = 0\n",
      "42.jpg = 48195\n",
      "43.jpg = 0\n",
      "44.jpg = 33915\n",
      "45.jpg = 0\n",
      "46.jpg = 38760\n",
      "47.jpg = 0\n",
      "48.jpg = 33660\n",
      "49.jpg = 0\n",
      "50.jpg = 0\n",
      "51.jpg = 45900\n",
      "52.jpg = 0\n",
      "53.jpg = 0\n",
      "54.jpg = 33915\n",
      "55.jpg = 48450\n",
      "56.jpg = 0\n",
      "57.jpg = 0\n",
      "58.jpg = 42585\n",
      "59.jpg = 0\n",
      "60.jpg = 39270\n",
      "61.jpg = 0\n",
      "62.jpg = 41310\n",
      "63.jpg = 0\n",
      "64.jpg = 0\n",
      "65.jpg = 47175\n",
      "66.jpg = 22440\n",
      "67.jpg = 0\n",
      "68.jpg = 0\n",
      "69.jpg = 0\n",
      "70.jpg = 0\n",
      "71.jpg = 31620\n",
      "72.jpg = 0\n",
      "73.jpg = 0\n",
      "74.jpg = 20655\n",
      "75.jpg = 0\n",
      "76.jpg = 48195\n",
      "77.jpg = 0\n",
      "78.jpg = 34425\n",
      "79.jpg = 0\n",
      "80.jpg = 42585\n"
     ]
    }
   ],
   "source": [
    "ans = []\n",
    "for i in range(len(rois)):\n",
    "    gray = rois[i].astype('uint8')\n",
    "    # gray = cv2.cvtColor(img, cv2.COLOR_BGR2GRAY)\n",
    "    gray = cv2.GaussianBlur(gray, (7, 7), 0)\n",
    "    thresh = cv2.adaptiveThreshold(\n",
    "        gray, 255, cv2.ADAPTIVE_THRESH_GAUSSIAN_C, cv2.THRESH_BINARY_INV, 5, 3)\n",
    "    # thresh = cv2.threshold(gray, 0, 255, cv2.THRESH_BINARY_INV + cv2.THRESH_OTSU)[1]\n",
    "    sum = np.sum(thresh[14:34, 14:34])\n",
    "    if sum > 500:\n",
    "        ans.append('x')\n",
    "    else :\n",
    "        ans.append('_')\n",
    "    print(f'{i}.jpg = {sum}')"
   ]
  },
  {
   "cell_type": "code",
   "execution_count": 19,
   "metadata": {},
   "outputs": [
    {
     "data": {
      "text/plain": [
       "array([['x', 'x', '_', '_', 'x', '_', 'x', '_', '_'],\n",
       "       ['_', '_', '_', '_', '_', 'x', 'x', '_', '_'],\n",
       "       ['x', '_', 'x', 'x', 'x', '_', '_', 'x', 'x'],\n",
       "       ['_', '_', 'x', '_', '_', 'x', '_', 'x', '_'],\n",
       "       ['x', '_', 'x', '_', 'x', '_', 'x', '_', 'x'],\n",
       "       ['_', 'x', '_', 'x', '_', '_', 'x', '_', '_'],\n",
       "       ['x', 'x', '_', '_', 'x', '_', 'x', '_', 'x'],\n",
       "       ['_', '_', 'x', 'x', '_', '_', '_', '_', 'x'],\n",
       "       ['_', '_', 'x', '_', 'x', '_', 'x', '_', 'x']], dtype='<U1')"
      ]
     },
     "execution_count": 19,
     "metadata": {},
     "output_type": "execute_result"
    }
   ],
   "source": [
    "board_num = np.array(ans).reshape(9, 9)\n",
    "board_num"
   ]
  },
  {
   "cell_type": "code",
   "execution_count": 112,
   "metadata": {},
   "outputs": [],
   "source": [
    "\n",
    "mat = np.matrix(board_num)\n",
    "with open('output.txt','wb') as f:\n",
    "    for line in mat:\n",
    "        np.savetxt(f, line, fmt='%s')"
   ]
  },
  {
   "cell_type": "code",
   "execution_count": null,
   "metadata": {},
   "outputs": [],
   "source": []
  }
 ],
 "metadata": {
  "kernelspec": {
   "display_name": "Python 3",
   "language": "python",
   "name": "python3"
  },
  "language_info": {
   "codemirror_mode": {
    "name": "ipython",
    "version": 3
   },
   "file_extension": ".py",
   "mimetype": "text/x-python",
   "name": "python",
   "nbconvert_exporter": "python",
   "pygments_lexer": "ipython3",
   "version": "3.10.4"
  },
  "orig_nbformat": 4,
  "vscode": {
   "interpreter": {
    "hash": "3bc1a11519d29b3ed6f08646f3ece60640217e649724c6bcfd38e1173c1a1bce"
   }
  }
 },
 "nbformat": 4,
 "nbformat_minor": 2
}
